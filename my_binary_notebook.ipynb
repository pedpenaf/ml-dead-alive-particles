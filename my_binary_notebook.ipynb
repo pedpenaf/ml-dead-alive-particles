{
 "cells": [
  {
   "cell_type": "code",
   "execution_count": 42,
   "metadata": {},
   "outputs": [],
   "source": [
    "import sys\n",
    "import pandas as pd\n",
    "import numpy as np\n",
    "from sklearn.model_selection import train_test_split\n",
    "import time\n",
    "from sklearn.neural_network import MLPClassifier\n",
    "from sklearn.metrics import f1_score,accuracy_score,roc_auc_score\n",
    "from sklearn.model_selection import GridSearchCV\n",
    "from sklearn.metrics import classification_report\n",
    "import os\n",
    "import matplotlib.pyplot as plt\n",
    "import matplotlib.pylab as pl\n",
    "#import matplotlib\n",
    "# matplotlib.use('Agg')\n",
    "import lightgbm as lgb\n",
    "from sklearn import metrics\n",
    "from numpy.ma import MaskedArray\n",
    "import sklearn.utils.fixes\n",
    "sklearn.utils.fixes.MaskedArray = MaskedArray\n",
    "from sklearn.model_selection import train_test_split\n",
    "#from sklearn.metrics import plot_confusion_matrix\n",
    "import shap"
   ]
  },
  {
   "cell_type": "code",
   "execution_count": 2,
   "metadata": {},
   "outputs": [
    {
     "name": "stdout",
     "output_type": "stream",
     "text": [
      "Start loading data file \n",
      "------------ BEGIN TRAIN DATAFRAME COLUMNS ------------------\n",
      "Index(['area', 'perimeter', 'neighbours', 'max neighbour distance',\n",
      "       'min neighbour distance', 'max vertices distance',\n",
      "       'min vertices distance', 'max vertices-point distance',\n",
      "       'min vertices-point distance', 'distance to center', 'activity',\n",
      "       'particle type'],\n",
      "      dtype='object')\n",
      "------------- END TRAIN DATAFRAME COLUMNS -------------------\n"
     ]
    }
   ],
   "source": [
    "# **************** Loading the data\n",
    "# For the example I am usign a table in csv format, but if your data are larger you can use other formats compatible with pandas, like .pickle\n",
    "print(\"Start loading data file \")\n",
    "\n",
    "cols_names=['area', 'perimeter', 'neighbours', 'max neighbour distance',\n",
    "       'min neighbour distance', 'max vertices distance',\n",
    "       'min vertices distance', 'max vertices-point distance',\n",
    "       'min vertices-point distance', 'distance to center', 'activity',\n",
    "       'particle type']\n",
    "input_file='particles-features-0.1-Fa60.txt'\n",
    "data = pd.read_csv(input_file, delimiter=' ',names=cols_names)\n",
    "\n",
    "#print(data)\n",
    "\n",
    "\n",
    "# *** Split the available data in training and test\n",
    "# the model will be trained only using the training data\n",
    "# so we can evaluate the performance on a different (test) set, that is new for the ML model\n",
    "df_train, df_test = train_test_split(data, random_state=50, test_size=0.3)\n",
    "\n",
    "print('------------ BEGIN TRAIN DATAFRAME COLUMNS ------------------')\n",
    "print(df_train.columns)\n",
    "print('------------- END TRAIN DATAFRAME COLUMNS -------------------')\n"
   ]
  },
  {
   "cell_type": "code",
   "execution_count": 3,
   "metadata": {},
   "outputs": [
    {
     "data": {
      "text/html": [
       "<div>\n",
       "<style scoped>\n",
       "    .dataframe tbody tr th:only-of-type {\n",
       "        vertical-align: middle;\n",
       "    }\n",
       "\n",
       "    .dataframe tbody tr th {\n",
       "        vertical-align: top;\n",
       "    }\n",
       "\n",
       "    .dataframe thead th {\n",
       "        text-align: right;\n",
       "    }\n",
       "</style>\n",
       "<table border=\"1\" class=\"dataframe\">\n",
       "  <thead>\n",
       "    <tr style=\"text-align: right;\">\n",
       "      <th></th>\n",
       "      <th>area</th>\n",
       "      <th>perimeter</th>\n",
       "      <th>neighbours</th>\n",
       "      <th>max neighbour distance</th>\n",
       "      <th>min neighbour distance</th>\n",
       "      <th>max vertices distance</th>\n",
       "      <th>min vertices distance</th>\n",
       "      <th>max vertices-point distance</th>\n",
       "      <th>min vertices-point distance</th>\n",
       "      <th>distance to center</th>\n",
       "      <th>activity</th>\n",
       "      <th>particle type</th>\n",
       "    </tr>\n",
       "  </thead>\n",
       "  <tbody>\n",
       "    <tr>\n",
       "      <th>635067</th>\n",
       "      <td>0.767525</td>\n",
       "      <td>3.308608</td>\n",
       "      <td>6.0</td>\n",
       "      <td>1.153157</td>\n",
       "      <td>0.784682</td>\n",
       "      <td>1.128429</td>\n",
       "      <td>0.353839</td>\n",
       "      <td>0.638007</td>\n",
       "      <td>0.507887</td>\n",
       "      <td>0.071155</td>\n",
       "      <td>1.0</td>\n",
       "      <td>0.0</td>\n",
       "    </tr>\n",
       "    <tr>\n",
       "      <th>1849450</th>\n",
       "      <td>0.789758</td>\n",
       "      <td>3.367023</td>\n",
       "      <td>7.0</td>\n",
       "      <td>1.158468</td>\n",
       "      <td>0.840325</td>\n",
       "      <td>1.130436</td>\n",
       "      <td>0.115149</td>\n",
       "      <td>0.588227</td>\n",
       "      <td>0.543554</td>\n",
       "      <td>0.021318</td>\n",
       "      <td>0.0</td>\n",
       "      <td>1.0</td>\n",
       "    </tr>\n",
       "    <tr>\n",
       "      <th>1512226</th>\n",
       "      <td>0.862553</td>\n",
       "      <td>3.492780</td>\n",
       "      <td>7.0</td>\n",
       "      <td>1.278831</td>\n",
       "      <td>0.906190</td>\n",
       "      <td>1.263235</td>\n",
       "      <td>0.118974</td>\n",
       "      <td>0.652097</td>\n",
       "      <td>0.517653</td>\n",
       "      <td>0.017999</td>\n",
       "      <td>0.0</td>\n",
       "      <td>1.0</td>\n",
       "    </tr>\n",
       "    <tr>\n",
       "      <th>904884</th>\n",
       "      <td>0.741425</td>\n",
       "      <td>3.316321</td>\n",
       "      <td>5.0</td>\n",
       "      <td>1.017501</td>\n",
       "      <td>0.834547</td>\n",
       "      <td>1.164606</td>\n",
       "      <td>0.544636</td>\n",
       "      <td>0.655106</td>\n",
       "      <td>0.524760</td>\n",
       "      <td>0.031100</td>\n",
       "      <td>0.0</td>\n",
       "      <td>0.0</td>\n",
       "    </tr>\n",
       "    <tr>\n",
       "      <th>161732</th>\n",
       "      <td>0.754256</td>\n",
       "      <td>3.268442</td>\n",
       "      <td>6.0</td>\n",
       "      <td>1.028061</td>\n",
       "      <td>0.810904</td>\n",
       "      <td>1.148971</td>\n",
       "      <td>0.311192</td>\n",
       "      <td>0.609138</td>\n",
       "      <td>0.517849</td>\n",
       "      <td>0.013343</td>\n",
       "      <td>0.0</td>\n",
       "      <td>0.0</td>\n",
       "    </tr>\n",
       "    <tr>\n",
       "      <th>...</th>\n",
       "      <td>...</td>\n",
       "      <td>...</td>\n",
       "      <td>...</td>\n",
       "      <td>...</td>\n",
       "      <td>...</td>\n",
       "      <td>...</td>\n",
       "      <td>...</td>\n",
       "      <td>...</td>\n",
       "      <td>...</td>\n",
       "      <td>...</td>\n",
       "      <td>...</td>\n",
       "      <td>...</td>\n",
       "    </tr>\n",
       "    <tr>\n",
       "      <th>441633</th>\n",
       "      <td>0.870017</td>\n",
       "      <td>3.553290</td>\n",
       "      <td>6.0</td>\n",
       "      <td>1.195560</td>\n",
       "      <td>0.806754</td>\n",
       "      <td>1.306405</td>\n",
       "      <td>0.387368</td>\n",
       "      <td>0.706019</td>\n",
       "      <td>0.540799</td>\n",
       "      <td>0.034360</td>\n",
       "      <td>0.0</td>\n",
       "      <td>1.0</td>\n",
       "    </tr>\n",
       "    <tr>\n",
       "      <th>677997</th>\n",
       "      <td>0.926657</td>\n",
       "      <td>3.668523</td>\n",
       "      <td>6.0</td>\n",
       "      <td>1.273297</td>\n",
       "      <td>0.861496</td>\n",
       "      <td>1.303061</td>\n",
       "      <td>0.154767</td>\n",
       "      <td>0.672960</td>\n",
       "      <td>0.568200</td>\n",
       "      <td>0.022512</td>\n",
       "      <td>0.0</td>\n",
       "      <td>0.0</td>\n",
       "    </tr>\n",
       "    <tr>\n",
       "      <th>239499</th>\n",
       "      <td>1.072487</td>\n",
       "      <td>3.900515</td>\n",
       "      <td>7.0</td>\n",
       "      <td>1.391715</td>\n",
       "      <td>0.965872</td>\n",
       "      <td>1.313825</td>\n",
       "      <td>0.141951</td>\n",
       "      <td>0.722786</td>\n",
       "      <td>0.571711</td>\n",
       "      <td>0.049071</td>\n",
       "      <td>0.0</td>\n",
       "      <td>1.0</td>\n",
       "    </tr>\n",
       "    <tr>\n",
       "      <th>1152480</th>\n",
       "      <td>0.881689</td>\n",
       "      <td>3.535999</td>\n",
       "      <td>6.0</td>\n",
       "      <td>1.136420</td>\n",
       "      <td>0.872215</td>\n",
       "      <td>1.266622</td>\n",
       "      <td>0.444050</td>\n",
       "      <td>0.636505</td>\n",
       "      <td>0.551523</td>\n",
       "      <td>0.033578</td>\n",
       "      <td>0.0</td>\n",
       "      <td>1.0</td>\n",
       "    </tr>\n",
       "    <tr>\n",
       "      <th>1980080</th>\n",
       "      <td>0.691952</td>\n",
       "      <td>3.215866</td>\n",
       "      <td>5.0</td>\n",
       "      <td>0.993474</td>\n",
       "      <td>0.799901</td>\n",
       "      <td>1.109481</td>\n",
       "      <td>0.377339</td>\n",
       "      <td>0.617154</td>\n",
       "      <td>0.526955</td>\n",
       "      <td>0.021603</td>\n",
       "      <td>1.0</td>\n",
       "      <td>0.0</td>\n",
       "    </tr>\n",
       "  </tbody>\n",
       "</table>\n",
       "<p>1400000 rows × 12 columns</p>\n",
       "</div>"
      ],
      "text/plain": [
       "             area  perimeter  neighbours  max neighbour distance  \\\n",
       "635067   0.767525   3.308608         6.0                1.153157   \n",
       "1849450  0.789758   3.367023         7.0                1.158468   \n",
       "1512226  0.862553   3.492780         7.0                1.278831   \n",
       "904884   0.741425   3.316321         5.0                1.017501   \n",
       "161732   0.754256   3.268442         6.0                1.028061   \n",
       "...           ...        ...         ...                     ...   \n",
       "441633   0.870017   3.553290         6.0                1.195560   \n",
       "677997   0.926657   3.668523         6.0                1.273297   \n",
       "239499   1.072487   3.900515         7.0                1.391715   \n",
       "1152480  0.881689   3.535999         6.0                1.136420   \n",
       "1980080  0.691952   3.215866         5.0                0.993474   \n",
       "\n",
       "         min neighbour distance  max vertices distance  min vertices distance  \\\n",
       "635067                 0.784682               1.128429               0.353839   \n",
       "1849450                0.840325               1.130436               0.115149   \n",
       "1512226                0.906190               1.263235               0.118974   \n",
       "904884                 0.834547               1.164606               0.544636   \n",
       "161732                 0.810904               1.148971               0.311192   \n",
       "...                         ...                    ...                    ...   \n",
       "441633                 0.806754               1.306405               0.387368   \n",
       "677997                 0.861496               1.303061               0.154767   \n",
       "239499                 0.965872               1.313825               0.141951   \n",
       "1152480                0.872215               1.266622               0.444050   \n",
       "1980080                0.799901               1.109481               0.377339   \n",
       "\n",
       "         max vertices-point distance  min vertices-point distance  \\\n",
       "635067                      0.638007                     0.507887   \n",
       "1849450                     0.588227                     0.543554   \n",
       "1512226                     0.652097                     0.517653   \n",
       "904884                      0.655106                     0.524760   \n",
       "161732                      0.609138                     0.517849   \n",
       "...                              ...                          ...   \n",
       "441633                      0.706019                     0.540799   \n",
       "677997                      0.672960                     0.568200   \n",
       "239499                      0.722786                     0.571711   \n",
       "1152480                     0.636505                     0.551523   \n",
       "1980080                     0.617154                     0.526955   \n",
       "\n",
       "         distance to center  activity  particle type  \n",
       "635067             0.071155       1.0            0.0  \n",
       "1849450            0.021318       0.0            1.0  \n",
       "1512226            0.017999       0.0            1.0  \n",
       "904884             0.031100       0.0            0.0  \n",
       "161732             0.013343       0.0            0.0  \n",
       "...                     ...       ...            ...  \n",
       "441633             0.034360       0.0            1.0  \n",
       "677997             0.022512       0.0            0.0  \n",
       "239499             0.049071       0.0            1.0  \n",
       "1152480            0.033578       0.0            1.0  \n",
       "1980080            0.021603       1.0            0.0  \n",
       "\n",
       "[1400000 rows x 12 columns]"
      ]
     },
     "execution_count": 3,
     "metadata": {},
     "output_type": "execute_result"
    }
   ],
   "source": [
    "df_train"
   ]
  },
  {
   "cell_type": "code",
   "execution_count": 4,
   "metadata": {},
   "outputs": [
    {
     "data": {
      "text/html": [
       "<div>\n",
       "<style scoped>\n",
       "    .dataframe tbody tr th:only-of-type {\n",
       "        vertical-align: middle;\n",
       "    }\n",
       "\n",
       "    .dataframe tbody tr th {\n",
       "        vertical-align: top;\n",
       "    }\n",
       "\n",
       "    .dataframe thead th {\n",
       "        text-align: right;\n",
       "    }\n",
       "</style>\n",
       "<table border=\"1\" class=\"dataframe\">\n",
       "  <thead>\n",
       "    <tr style=\"text-align: right;\">\n",
       "      <th></th>\n",
       "      <th>area</th>\n",
       "      <th>perimeter</th>\n",
       "      <th>neighbours</th>\n",
       "      <th>max neighbour distance</th>\n",
       "      <th>min neighbour distance</th>\n",
       "      <th>max vertices distance</th>\n",
       "      <th>min vertices distance</th>\n",
       "      <th>max vertices-point distance</th>\n",
       "      <th>min vertices-point distance</th>\n",
       "      <th>distance to center</th>\n",
       "      <th>activity</th>\n",
       "      <th>particle type</th>\n",
       "    </tr>\n",
       "  </thead>\n",
       "  <tbody>\n",
       "    <tr>\n",
       "      <th>614099</th>\n",
       "      <td>0.791039</td>\n",
       "      <td>3.335474</td>\n",
       "      <td>7.0</td>\n",
       "      <td>1.226071</td>\n",
       "      <td>0.846609</td>\n",
       "      <td>1.133161</td>\n",
       "      <td>0.168695</td>\n",
       "      <td>0.640357</td>\n",
       "      <td>0.497096</td>\n",
       "      <td>0.065427</td>\n",
       "      <td>1.0</td>\n",
       "      <td>0.0</td>\n",
       "    </tr>\n",
       "    <tr>\n",
       "      <th>903904</th>\n",
       "      <td>0.854923</td>\n",
       "      <td>3.480301</td>\n",
       "      <td>7.0</td>\n",
       "      <td>1.291994</td>\n",
       "      <td>0.874127</td>\n",
       "      <td>1.190559</td>\n",
       "      <td>0.080361</td>\n",
       "      <td>0.654602</td>\n",
       "      <td>0.514242</td>\n",
       "      <td>0.043921</td>\n",
       "      <td>0.0</td>\n",
       "      <td>0.0</td>\n",
       "    </tr>\n",
       "    <tr>\n",
       "      <th>23774</th>\n",
       "      <td>0.767726</td>\n",
       "      <td>3.361134</td>\n",
       "      <td>5.0</td>\n",
       "      <td>1.058551</td>\n",
       "      <td>0.847403</td>\n",
       "      <td>1.172293</td>\n",
       "      <td>0.518810</td>\n",
       "      <td>0.602921</td>\n",
       "      <td>0.538458</td>\n",
       "      <td>0.024555</td>\n",
       "      <td>0.0</td>\n",
       "      <td>0.0</td>\n",
       "    </tr>\n",
       "    <tr>\n",
       "      <th>1727994</th>\n",
       "      <td>0.705179</td>\n",
       "      <td>3.206959</td>\n",
       "      <td>5.0</td>\n",
       "      <td>0.929480</td>\n",
       "      <td>0.845224</td>\n",
       "      <td>1.069255</td>\n",
       "      <td>0.562249</td>\n",
       "      <td>0.558434</td>\n",
       "      <td>0.533297</td>\n",
       "      <td>0.006369</td>\n",
       "      <td>0.0</td>\n",
       "      <td>0.0</td>\n",
       "    </tr>\n",
       "    <tr>\n",
       "      <th>1714002</th>\n",
       "      <td>0.988856</td>\n",
       "      <td>3.737136</td>\n",
       "      <td>6.0</td>\n",
       "      <td>1.296641</td>\n",
       "      <td>0.948468</td>\n",
       "      <td>1.279418</td>\n",
       "      <td>0.376083</td>\n",
       "      <td>0.684682</td>\n",
       "      <td>0.562662</td>\n",
       "      <td>0.051151</td>\n",
       "      <td>1.0</td>\n",
       "      <td>1.0</td>\n",
       "    </tr>\n",
       "    <tr>\n",
       "      <th>...</th>\n",
       "      <td>...</td>\n",
       "      <td>...</td>\n",
       "      <td>...</td>\n",
       "      <td>...</td>\n",
       "      <td>...</td>\n",
       "      <td>...</td>\n",
       "      <td>...</td>\n",
       "      <td>...</td>\n",
       "      <td>...</td>\n",
       "      <td>...</td>\n",
       "      <td>...</td>\n",
       "      <td>...</td>\n",
       "    </tr>\n",
       "    <tr>\n",
       "      <th>1540347</th>\n",
       "      <td>0.813158</td>\n",
       "      <td>3.444021</td>\n",
       "      <td>6.0</td>\n",
       "      <td>1.126402</td>\n",
       "      <td>0.850171</td>\n",
       "      <td>1.160740</td>\n",
       "      <td>0.156795</td>\n",
       "      <td>0.629831</td>\n",
       "      <td>0.567769</td>\n",
       "      <td>0.044143</td>\n",
       "      <td>0.0</td>\n",
       "      <td>1.0</td>\n",
       "    </tr>\n",
       "    <tr>\n",
       "      <th>900741</th>\n",
       "      <td>0.753771</td>\n",
       "      <td>3.320463</td>\n",
       "      <td>5.0</td>\n",
       "      <td>0.964334</td>\n",
       "      <td>0.854351</td>\n",
       "      <td>1.112026</td>\n",
       "      <td>0.604748</td>\n",
       "      <td>0.598057</td>\n",
       "      <td>0.533787</td>\n",
       "      <td>0.018898</td>\n",
       "      <td>0.0</td>\n",
       "      <td>0.0</td>\n",
       "    </tr>\n",
       "    <tr>\n",
       "      <th>358526</th>\n",
       "      <td>0.983468</td>\n",
       "      <td>3.785026</td>\n",
       "      <td>6.0</td>\n",
       "      <td>1.362060</td>\n",
       "      <td>0.947161</td>\n",
       "      <td>1.375282</td>\n",
       "      <td>0.178270</td>\n",
       "      <td>0.704584</td>\n",
       "      <td>0.545055</td>\n",
       "      <td>0.032643</td>\n",
       "      <td>0.0</td>\n",
       "      <td>1.0</td>\n",
       "    </tr>\n",
       "    <tr>\n",
       "      <th>1491630</th>\n",
       "      <td>0.837051</td>\n",
       "      <td>3.440542</td>\n",
       "      <td>6.0</td>\n",
       "      <td>1.066545</td>\n",
       "      <td>0.840857</td>\n",
       "      <td>1.177933</td>\n",
       "      <td>0.326667</td>\n",
       "      <td>0.643324</td>\n",
       "      <td>0.536564</td>\n",
       "      <td>0.043843</td>\n",
       "      <td>0.0</td>\n",
       "      <td>1.0</td>\n",
       "    </tr>\n",
       "    <tr>\n",
       "      <th>1921808</th>\n",
       "      <td>0.789466</td>\n",
       "      <td>3.392642</td>\n",
       "      <td>5.0</td>\n",
       "      <td>1.005258</td>\n",
       "      <td>0.877281</td>\n",
       "      <td>1.120463</td>\n",
       "      <td>0.619142</td>\n",
       "      <td>0.604972</td>\n",
       "      <td>0.533089</td>\n",
       "      <td>0.032221</td>\n",
       "      <td>0.0</td>\n",
       "      <td>0.0</td>\n",
       "    </tr>\n",
       "  </tbody>\n",
       "</table>\n",
       "<p>600000 rows × 12 columns</p>\n",
       "</div>"
      ],
      "text/plain": [
       "             area  perimeter  neighbours  max neighbour distance  \\\n",
       "614099   0.791039   3.335474         7.0                1.226071   \n",
       "903904   0.854923   3.480301         7.0                1.291994   \n",
       "23774    0.767726   3.361134         5.0                1.058551   \n",
       "1727994  0.705179   3.206959         5.0                0.929480   \n",
       "1714002  0.988856   3.737136         6.0                1.296641   \n",
       "...           ...        ...         ...                     ...   \n",
       "1540347  0.813158   3.444021         6.0                1.126402   \n",
       "900741   0.753771   3.320463         5.0                0.964334   \n",
       "358526   0.983468   3.785026         6.0                1.362060   \n",
       "1491630  0.837051   3.440542         6.0                1.066545   \n",
       "1921808  0.789466   3.392642         5.0                1.005258   \n",
       "\n",
       "         min neighbour distance  max vertices distance  min vertices distance  \\\n",
       "614099                 0.846609               1.133161               0.168695   \n",
       "903904                 0.874127               1.190559               0.080361   \n",
       "23774                  0.847403               1.172293               0.518810   \n",
       "1727994                0.845224               1.069255               0.562249   \n",
       "1714002                0.948468               1.279418               0.376083   \n",
       "...                         ...                    ...                    ...   \n",
       "1540347                0.850171               1.160740               0.156795   \n",
       "900741                 0.854351               1.112026               0.604748   \n",
       "358526                 0.947161               1.375282               0.178270   \n",
       "1491630                0.840857               1.177933               0.326667   \n",
       "1921808                0.877281               1.120463               0.619142   \n",
       "\n",
       "         max vertices-point distance  min vertices-point distance  \\\n",
       "614099                      0.640357                     0.497096   \n",
       "903904                      0.654602                     0.514242   \n",
       "23774                       0.602921                     0.538458   \n",
       "1727994                     0.558434                     0.533297   \n",
       "1714002                     0.684682                     0.562662   \n",
       "...                              ...                          ...   \n",
       "1540347                     0.629831                     0.567769   \n",
       "900741                      0.598057                     0.533787   \n",
       "358526                      0.704584                     0.545055   \n",
       "1491630                     0.643324                     0.536564   \n",
       "1921808                     0.604972                     0.533089   \n",
       "\n",
       "         distance to center  activity  particle type  \n",
       "614099             0.065427       1.0            0.0  \n",
       "903904             0.043921       0.0            0.0  \n",
       "23774              0.024555       0.0            0.0  \n",
       "1727994            0.006369       0.0            0.0  \n",
       "1714002            0.051151       1.0            1.0  \n",
       "...                     ...       ...            ...  \n",
       "1540347            0.044143       0.0            1.0  \n",
       "900741             0.018898       0.0            0.0  \n",
       "358526             0.032643       0.0            1.0  \n",
       "1491630            0.043843       0.0            1.0  \n",
       "1921808            0.032221       0.0            0.0  \n",
       "\n",
       "[600000 rows x 12 columns]"
      ]
     },
     "execution_count": 4,
     "metadata": {},
     "output_type": "execute_result"
    }
   ],
   "source": [
    "df_test"
   ]
  },
  {
   "cell_type": "code",
   "execution_count": 3,
   "metadata": {},
   "outputs": [
    {
     "name": "stdout",
     "output_type": "stream",
     "text": [
      "create x/y dataframes (train set)\n",
      "create x/y dataframes (test set)\n"
     ]
    }
   ],
   "source": [
    "print(\"create x/y dataframes (train set)\")\n",
    "# In this particulat proble we want to identify if a specific particle 'is_active' or not\n",
    "# so we have to do a binary classification of the column 'is_active'\n",
    "df_train_y = df_train['activity'].copy().astype('int')\n",
    "df_train.drop(columns='activity', inplace=True)\n",
    "df_train_x = df_train\n",
    "\n",
    "print(\"create x/y dataframes (test set)\")\n",
    "df_test_y = df_test['activity'].copy().astype('int')\n",
    "df_test.drop(columns='activity', inplace=True)\n",
    "df_test_x = df_test"
   ]
  },
  {
   "cell_type": "code",
   "execution_count": 4,
   "metadata": {},
   "outputs": [
    {
     "name": "stdout",
     "output_type": "stream",
     "text": [
      "\n",
      "\n",
      "*** Using a gradient boosting algorithm\n"
     ]
    },
    {
     "name": "stderr",
     "output_type": "stream",
     "text": [
      "c:\\Users\\Pedro\\Documentos\\pruebatfg\\myenvprueba\\lib\\site-packages\\lightgbm\\engine.py:204: UserWarning: Found `num_iterations` in params. Will use it instead of argument\n",
      "  _log_warning(f\"Found `{alias}` in params. Will use it instead of argument\")\n"
     ]
    },
    {
     "name": "stdout",
     "output_type": "stream",
     "text": [
      "[LightGBM] [Warning] early_stopping_round is set=10, early_stopping_rounds=10 will be ignored. Current value: early_stopping_round=10\n",
      "[LightGBM] [Warning] Found whitespace in feature_names, replace with underlines\n",
      "[LightGBM] [Info] Number of positive: 140128, number of negative: 1259872\n",
      "[LightGBM] [Info] Auto-choosing col-wise multi-threading, the overhead of testing was 0.029029 seconds.\n",
      "You can set `force_col_wise=true` to remove the overhead.\n",
      "[LightGBM] [Info] Total Bins 2306\n",
      "[LightGBM] [Info] Number of data points in the train set: 1400000, number of used features: 11\n",
      "[LightGBM] [Warning] early_stopping_round is set=10, early_stopping_rounds=10 will be ignored. Current value: early_stopping_round=10\n",
      "[LightGBM] [Warning] Found whitespace in feature_names, replace with underlines\n",
      "[LightGBM] [Info] [binary:BoostFromScore]: pavg=0.100091 -> initscore=-2.196209\n",
      "[LightGBM] [Info] Start training from score -2.196209\n",
      "Training until validation scores don't improve for 10 rounds\n",
      "Early stopping, best iteration is:\n",
      "[1725]\ttraining's binary_logloss: 0.258851\tvalid_1's binary_logloss: 0.267172\n",
      "\n",
      "\n",
      "***Training accuracy 0.9096\n",
      "***Testing accuracy 0.9081\n",
      "\n",
      "              precision    recall  f1-score   support\n",
      "\n",
      "           0       0.91      0.99      0.95    540128\n",
      "           1       0.68      0.15      0.24     59872\n",
      "\n",
      "    accuracy                           0.91    600000\n",
      "   macro avg       0.80      0.57      0.60    600000\n",
      "weighted avg       0.89      0.91      0.88    600000\n",
      "\n"
     ]
    }
   ],
   "source": [
    "print('\\n\\n*** Using a gradient boosting algorithm')\n",
    "# This is a more advanced algorithm that is explained here:https://lightgbm.readthedocs.io/en/latest/pythonapi/lightgbm.LGBMClassifier.html\n",
    "model = lgb.LGBMClassifier(learning_rate=0.01,num_leaves=100,max_depth=15, early_stopping_rounds=10, num_iterations=3000, random_state=42)\n",
    "\n",
    "model.fit(df_train_x,df_train_y,eval_set=[(df_train_x,df_train_y),(df_test_x,df_test_y)],\n",
    "            eval_metric='binary')\n",
    "print('\\n\\n***Training accuracy {:.4f}'.format(model.score(df_train_x,df_train_y)))\n",
    "print('***Testing accuracy {:.4f}\\n'.format(model.score(df_test_x,df_test_y)))\n",
    "\n",
    "print(metrics.classification_report(df_test_y,model.predict(df_test_x)))"
   ]
  },
  {
   "cell_type": "code",
   "execution_count": 5,
   "metadata": {},
   "outputs": [],
   "source": [
    "pred_test=model.predict(df_test_x)"
   ]
  },
  {
   "cell_type": "code",
   "execution_count": 6,
   "metadata": {},
   "outputs": [
    {
     "data": {
      "text/plain": [
       "0.24437836578648067"
      ]
     },
     "execution_count": 6,
     "metadata": {},
     "output_type": "execute_result"
    }
   ],
   "source": [
    "f1_score(df_test_y,pred_test)"
   ]
  },
  {
   "cell_type": "code",
   "execution_count": 23,
   "metadata": {},
   "outputs": [],
   "source": [
    "#Returns accuracy,auc,f1_score\n",
    "def score(y,pred):\n",
    "    return accuracy_score(y,pred),roc_auc_score(y,pred),f1_score(y,pred)"
   ]
  },
  {
   "cell_type": "code",
   "execution_count": 22,
   "metadata": {},
   "outputs": [
    {
     "data": {
      "text/html": [
       "<div>\n",
       "<style scoped>\n",
       "    .dataframe tbody tr th:only-of-type {\n",
       "        vertical-align: middle;\n",
       "    }\n",
       "\n",
       "    .dataframe tbody tr th {\n",
       "        vertical-align: top;\n",
       "    }\n",
       "\n",
       "    .dataframe thead th {\n",
       "        text-align: right;\n",
       "    }\n",
       "</style>\n",
       "<table border=\"1\" class=\"dataframe\">\n",
       "  <thead>\n",
       "    <tr style=\"text-align: right;\">\n",
       "      <th></th>\n",
       "      <th>1 1 7.32901 24.9911</th>\n",
       "    </tr>\n",
       "  </thead>\n",
       "  <tbody>\n",
       "    <tr>\n",
       "      <th>0</th>\n",
       "      <td>2 1 24.2163 28.0885</td>\n",
       "    </tr>\n",
       "    <tr>\n",
       "      <th>1</th>\n",
       "      <td>3 1 24.8592 2.49579</td>\n",
       "    </tr>\n",
       "    <tr>\n",
       "      <th>2</th>\n",
       "      <td>4 1 16.2195 8.41785</td>\n",
       "    </tr>\n",
       "    <tr>\n",
       "      <th>3</th>\n",
       "      <td>5 1 10.2535 24.3277</td>\n",
       "    </tr>\n",
       "    <tr>\n",
       "      <th>4</th>\n",
       "      <td>6 1 19.2187 23.6963</td>\n",
       "    </tr>\n",
       "    <tr>\n",
       "      <th>...</th>\n",
       "      <td>...</td>\n",
       "    </tr>\n",
       "    <tr>\n",
       "      <th>2000994</th>\n",
       "      <td>996 4 26.0632 4.15549</td>\n",
       "    </tr>\n",
       "    <tr>\n",
       "      <th>2000995</th>\n",
       "      <td>997 4 23.9477 22.5588</td>\n",
       "    </tr>\n",
       "    <tr>\n",
       "      <th>2000996</th>\n",
       "      <td>998 4 25.0032 23.802</td>\n",
       "    </tr>\n",
       "    <tr>\n",
       "      <th>2000997</th>\n",
       "      <td>999 4 16.861 17.2506</td>\n",
       "    </tr>\n",
       "    <tr>\n",
       "      <th>2000998</th>\n",
       "      <td>1000 4 0.116802 8.69244</td>\n",
       "    </tr>\n",
       "  </tbody>\n",
       "</table>\n",
       "<p>2000999 rows × 1 columns</p>\n",
       "</div>"
      ],
      "text/plain": [
       "             1 1 7.32901 24.9911\n",
       "0            2 1 24.2163 28.0885\n",
       "1            3 1 24.8592 2.49579\n",
       "2            4 1 16.2195 8.41785\n",
       "3            5 1 10.2535 24.3277\n",
       "4            6 1 19.2187 23.6963\n",
       "...                          ...\n",
       "2000994    996 4 26.0632 4.15549\n",
       "2000995    997 4 23.9477 22.5588\n",
       "2000996     998 4 25.0032 23.802\n",
       "2000997     999 4 16.861 17.2506\n",
       "2000998  1000 4 0.116802 8.69244\n",
       "\n",
       "[2000999 rows x 1 columns]"
      ]
     },
     "execution_count": 22,
     "metadata": {},
     "output_type": "execute_result"
    }
   ],
   "source": [
    "df=pd.read_csv(\"phia0.1/traj_phia0.1-T05-Fa20-tau1.dat\")\n",
    "df \n"
   ]
  },
  {
   "cell_type": "code",
   "execution_count": 26,
   "metadata": {},
   "outputs": [],
   "source": [
    "def gb_model(df_train_x,df_train_y,df_test_x,df_test_y):\n",
    "    model = lgb.LGBMClassifier(learning_rate=0.01,num_leaves=100,max_depth=15, early_stopping_rounds=10, num_iterations=3000, random_state=42)\n",
    "\n",
    "    model.fit(df_train_x,df_train_y,eval_set=[(df_train_x,df_train_y),(df_test_x,df_test_y)],\n",
    "            eval_metric='binary')\n",
    "    return model"
   ]
  },
  {
   "cell_type": "code",
   "execution_count": 30,
   "metadata": {},
   "outputs": [],
   "source": [
    "def plot_score_Fa_depend(fa_list,density,model_method):\n",
    "    cols_names=['area', 'perimeter', 'neighbours', 'max neighbour distance',\n",
    "       'min neighbour distance', 'max vertices distance',\n",
    "       'min vertices distance', 'max vertices-point distance',\n",
    "       'min vertices-point distance', 'distance to center', 'activity',\n",
    "       'particle type']\n",
    "    accuracy_list=[]\n",
    "    auc_list=[]\n",
    "    f1_list=[]\n",
    "\n",
    "    for fa in fa_list:\n",
    "        input_file=f\"phia{density}/particles-features-{density}-Fa{fa}.txt\"\n",
    "        data = pd.read_csv(input_file, delimiter=' ',names=cols_names)\n",
    "\n",
    "        df_train, df_test = train_test_split(data, random_state=50, test_size=0.3)\n",
    "        df_train_y = df_train['activity'].copy().astype('int')\n",
    "        df_train.drop(columns='activity', inplace=True)\n",
    "        df_train_x = df_train\n",
    "\n",
    "        df_test_y = df_test['activity'].copy().astype('int')\n",
    "        df_test.drop(columns='activity', inplace=True)\n",
    "        df_test_x = df_test\n",
    "\n",
    "        model=model_method(df_train_x,df_train_y,df_test_x,df_test_y)\n",
    "        pred=model.predict(df_test_x)\n",
    "        accuracy,auc,f1=score(df_test_y,pred)\n",
    "        accuracy_list.append(accuracy)\n",
    "        auc_list.append(auc)\n",
    "        f1_list.append(f1)\n",
    "    \n",
    "    plt.scatter(fa_list,accuracy_list)\n",
    "    plt.scatter(fa_list,auc_list)\n",
    "    plt.scatter(fa_list,f1_list)\n",
    "    plt.legend(['Accuracy','ROC AUC score', 'F1 score'])\n",
    "    return accuracy_list,auc_list,f1_list\n",
    "        "
   ]
  },
  {
   "cell_type": "code",
   "execution_count": 31,
   "metadata": {},
   "outputs": [
    {
     "name": "stderr",
     "output_type": "stream",
     "text": [
      "c:\\Users\\Pedro\\Documentos\\pruebatfg\\myenvprueba\\lib\\site-packages\\lightgbm\\engine.py:204: UserWarning: Found `num_iterations` in params. Will use it instead of argument\n",
      "  _log_warning(f\"Found `{alias}` in params. Will use it instead of argument\")\n"
     ]
    },
    {
     "name": "stdout",
     "output_type": "stream",
     "text": [
      "[LightGBM] [Warning] early_stopping_round is set=10, early_stopping_rounds=10 will be ignored. Current value: early_stopping_round=10\n",
      "[LightGBM] [Warning] Found whitespace in feature_names, replace with underlines\n",
      "[LightGBM] [Info] Number of positive: 13991, number of negative: 126009\n",
      "[LightGBM] [Info] Auto-choosing row-wise multi-threading, the overhead of testing was 0.000643 seconds.\n",
      "You can set `force_row_wise=true` to remove the overhead.\n",
      "And if memory is not enough, you can set `force_col_wise=true`.\n",
      "[LightGBM] [Info] Total Bins 2306\n",
      "[LightGBM] [Info] Number of data points in the train set: 140000, number of used features: 11\n",
      "[LightGBM] [Warning] early_stopping_round is set=10, early_stopping_rounds=10 will be ignored. Current value: early_stopping_round=10\n",
      "[LightGBM] [Warning] Found whitespace in feature_names, replace with underlines\n",
      "[LightGBM] [Info] [binary:BoostFromScore]: pavg=0.099936 -> initscore=-2.197939\n",
      "[LightGBM] [Info] Start training from score -2.197939\n",
      "Training until validation scores don't improve for 10 rounds\n",
      "Early stopping, best iteration is:\n",
      "[626]\ttraining's binary_logloss: 0.208876\tvalid_1's binary_logloss: 0.23857\n"
     ]
    },
    {
     "name": "stderr",
     "output_type": "stream",
     "text": [
      "c:\\Users\\Pedro\\Documentos\\pruebatfg\\myenvprueba\\lib\\site-packages\\lightgbm\\engine.py:204: UserWarning: Found `num_iterations` in params. Will use it instead of argument\n",
      "  _log_warning(f\"Found `{alias}` in params. Will use it instead of argument\")\n"
     ]
    },
    {
     "name": "stdout",
     "output_type": "stream",
     "text": [
      "[LightGBM] [Warning] early_stopping_round is set=10, early_stopping_rounds=10 will be ignored. Current value: early_stopping_round=10\n",
      "[LightGBM] [Warning] Found whitespace in feature_names, replace with underlines\n",
      "[LightGBM] [Info] Number of positive: 4234, number of negative: 37766\n",
      "[LightGBM] [Info] Auto-choosing col-wise multi-threading, the overhead of testing was 0.000986 seconds.\n",
      "You can set `force_col_wise=true` to remove the overhead.\n",
      "[LightGBM] [Info] Total Bins 2305\n",
      "[LightGBM] [Info] Number of data points in the train set: 42000, number of used features: 11\n",
      "[LightGBM] [Warning] early_stopping_round is set=10, early_stopping_rounds=10 will be ignored. Current value: early_stopping_round=10\n",
      "[LightGBM] [Warning] Found whitespace in feature_names, replace with underlines\n",
      "[LightGBM] [Info] [binary:BoostFromScore]: pavg=0.100810 -> initscore=-2.188262\n",
      "[LightGBM] [Info] Start training from score -2.188262\n",
      "Training until validation scores don't improve for 10 rounds\n",
      "Early stopping, best iteration is:\n",
      "[406]\ttraining's binary_logloss: 0.20314\tvalid_1's binary_logloss: 0.258792\n"
     ]
    },
    {
     "name": "stderr",
     "output_type": "stream",
     "text": [
      "c:\\Users\\Pedro\\Documentos\\pruebatfg\\myenvprueba\\lib\\site-packages\\lightgbm\\engine.py:204: UserWarning: Found `num_iterations` in params. Will use it instead of argument\n",
      "  _log_warning(f\"Found `{alias}` in params. Will use it instead of argument\")\n"
     ]
    },
    {
     "name": "stdout",
     "output_type": "stream",
     "text": [
      "[LightGBM] [Warning] early_stopping_round is set=10, early_stopping_rounds=10 will be ignored. Current value: early_stopping_round=10\n",
      "[LightGBM] [Warning] Found whitespace in feature_names, replace with underlines\n",
      "[LightGBM] [Info] Number of positive: 140119, number of negative: 1259881\n",
      "[LightGBM] [Info] Auto-choosing col-wise multi-threading, the overhead of testing was 0.031833 seconds.\n",
      "You can set `force_col_wise=true` to remove the overhead.\n",
      "[LightGBM] [Info] Total Bins 2305\n",
      "[LightGBM] [Info] Number of data points in the train set: 1400000, number of used features: 11\n",
      "[LightGBM] [Warning] early_stopping_round is set=10, early_stopping_rounds=10 will be ignored. Current value: early_stopping_round=10\n",
      "[LightGBM] [Warning] Found whitespace in feature_names, replace with underlines\n",
      "[LightGBM] [Info] [binary:BoostFromScore]: pavg=0.100085 -> initscore=-2.196280\n",
      "[LightGBM] [Info] Start training from score -2.196280\n",
      "Training until validation scores don't improve for 10 rounds\n",
      "Early stopping, best iteration is:\n",
      "[2383]\ttraining's binary_logloss: 0.24283\tvalid_1's binary_logloss: 0.254694\n"
     ]
    },
    {
     "name": "stderr",
     "output_type": "stream",
     "text": [
      "c:\\Users\\Pedro\\Documentos\\pruebatfg\\myenvprueba\\lib\\site-packages\\lightgbm\\engine.py:204: UserWarning: Found `num_iterations` in params. Will use it instead of argument\n",
      "  _log_warning(f\"Found `{alias}` in params. Will use it instead of argument\")\n"
     ]
    },
    {
     "name": "stdout",
     "output_type": "stream",
     "text": [
      "[LightGBM] [Warning] early_stopping_round is set=10, early_stopping_rounds=10 will be ignored. Current value: early_stopping_round=10\n",
      "[LightGBM] [Warning] Found whitespace in feature_names, replace with underlines\n",
      "[LightGBM] [Info] Number of positive: 140128, number of negative: 1259872\n",
      "[LightGBM] [Info] Auto-choosing col-wise multi-threading, the overhead of testing was 0.031349 seconds.\n",
      "You can set `force_col_wise=true` to remove the overhead.\n",
      "[LightGBM] [Info] Total Bins 2306\n",
      "[LightGBM] [Info] Number of data points in the train set: 1400000, number of used features: 11\n",
      "[LightGBM] [Warning] early_stopping_round is set=10, early_stopping_rounds=10 will be ignored. Current value: early_stopping_round=10\n",
      "[LightGBM] [Warning] Found whitespace in feature_names, replace with underlines\n",
      "[LightGBM] [Info] [binary:BoostFromScore]: pavg=0.100091 -> initscore=-2.196209\n",
      "[LightGBM] [Info] Start training from score -2.196209\n",
      "Training until validation scores don't improve for 10 rounds\n",
      "Early stopping, best iteration is:\n",
      "[1725]\ttraining's binary_logloss: 0.258851\tvalid_1's binary_logloss: 0.267172\n"
     ]
    },
    {
     "name": "stderr",
     "output_type": "stream",
     "text": [
      "c:\\Users\\Pedro\\Documentos\\pruebatfg\\myenvprueba\\lib\\site-packages\\lightgbm\\engine.py:204: UserWarning: Found `num_iterations` in params. Will use it instead of argument\n",
      "  _log_warning(f\"Found `{alias}` in params. Will use it instead of argument\")\n"
     ]
    },
    {
     "name": "stdout",
     "output_type": "stream",
     "text": [
      "[LightGBM] [Warning] early_stopping_round is set=10, early_stopping_rounds=10 will be ignored. Current value: early_stopping_round=10\n",
      "[LightGBM] [Warning] Found whitespace in feature_names, replace with underlines\n",
      "[LightGBM] [Info] Number of positive: 140097, number of negative: 1259903\n",
      "[LightGBM] [Info] Auto-choosing col-wise multi-threading, the overhead of testing was 0.030301 seconds.\n",
      "You can set `force_col_wise=true` to remove the overhead.\n",
      "[LightGBM] [Info] Total Bins 2305\n",
      "[LightGBM] [Info] Number of data points in the train set: 1400000, number of used features: 11\n",
      "[LightGBM] [Warning] early_stopping_round is set=10, early_stopping_rounds=10 will be ignored. Current value: early_stopping_round=10\n",
      "[LightGBM] [Warning] Found whitespace in feature_names, replace with underlines\n",
      "[LightGBM] [Info] [binary:BoostFromScore]: pavg=0.100069 -> initscore=-2.196455\n",
      "[LightGBM] [Info] Start training from score -2.196455\n",
      "Training until validation scores don't improve for 10 rounds\n",
      "Early stopping, best iteration is:\n",
      "[1546]\ttraining's binary_logloss: 0.280502\tvalid_1's binary_logloss: 0.288145\n"
     ]
    },
    {
     "name": "stderr",
     "output_type": "stream",
     "text": [
      "c:\\Users\\Pedro\\Documentos\\pruebatfg\\myenvprueba\\lib\\site-packages\\lightgbm\\engine.py:204: UserWarning: Found `num_iterations` in params. Will use it instead of argument\n",
      "  _log_warning(f\"Found `{alias}` in params. Will use it instead of argument\")\n"
     ]
    },
    {
     "name": "stdout",
     "output_type": "stream",
     "text": [
      "[LightGBM] [Warning] early_stopping_round is set=10, early_stopping_rounds=10 will be ignored. Current value: early_stopping_round=10\n",
      "[LightGBM] [Warning] Found whitespace in feature_names, replace with underlines\n",
      "[LightGBM] [Info] Number of positive: 140115, number of negative: 1259885\n",
      "[LightGBM] [Info] Auto-choosing col-wise multi-threading, the overhead of testing was 0.028570 seconds.\n",
      "You can set `force_col_wise=true` to remove the overhead.\n",
      "[LightGBM] [Info] Total Bins 2304\n",
      "[LightGBM] [Info] Number of data points in the train set: 1400000, number of used features: 11\n",
      "[LightGBM] [Warning] early_stopping_round is set=10, early_stopping_rounds=10 will be ignored. Current value: early_stopping_round=10\n",
      "[LightGBM] [Warning] Found whitespace in feature_names, replace with underlines\n",
      "[LightGBM] [Info] [binary:BoostFromScore]: pavg=0.100082 -> initscore=-2.196312\n",
      "[LightGBM] [Info] Start training from score -2.196312\n",
      "Training until validation scores don't improve for 10 rounds\n",
      "Early stopping, best iteration is:\n",
      "[723]\ttraining's binary_logloss: 0.309191\tvalid_1's binary_logloss: 0.31292\n"
     ]
    },
    {
     "data": {
      "text/plain": [
       "([0.91495,\n",
       "  0.9122777777777777,\n",
       "  0.9111533333333334,\n",
       "  0.908095,\n",
       "  0.9034833333333333,\n",
       "  0.900395],\n",
       " [0.6266326880740732,\n",
       "  0.5897841254551394,\n",
       "  0.5950115028085902,\n",
       "  0.5705903378676136,\n",
       "  0.5340524729333177,\n",
       "  0.5031788887870942],\n",
       " [0.3852547885796892,\n",
       "  0.29665924276169264,\n",
       "  0.3100538413750259,\n",
       "  0.24437836578648067,\n",
       "  0.1303499023877459,\n",
       "  0.01363283764379673])"
      ]
     },
     "execution_count": 31,
     "metadata": {},
     "output_type": "execute_result"
    }
   ],
   "source": [
    "Fa_list=[100,85,75,60,40,20]\n",
    "plot_score_Fa_depend(Fa_list,0.1,gb_model)"
   ]
  },
  {
   "cell_type": "code",
   "execution_count": 40,
   "metadata": {},
   "outputs": [
    {
     "name": "stderr",
     "output_type": "stream",
     "text": [
      "C:\\Users\\Pedro\\AppData\\Local\\Temp\\ipykernel_8296\\1590880250.py:24: UserWarning: FigureCanvasAgg is non-interactive, and thus cannot be shown\n",
      "  plt.show()\n"
     ]
    }
   ],
   "source": [
    "fa_list=[100,85,75,60,40,20]\n",
    "accuracy_list=[0.91495,\n",
    "  0.9122777777777777,\n",
    "  0.9111533333333334,\n",
    "  0.908095,\n",
    "  0.9034833333333333,\n",
    "  0.900395]\n",
    "auc_list=[0.6266326880740732,\n",
    "  0.5897841254551394,\n",
    "  0.5950115028085902,\n",
    "  0.5705903378676136,\n",
    "  0.5340524729333177,\n",
    "  0.5031788887870942]\n",
    "f1_list=[0.3852547885796892,\n",
    "  0.29665924276169264,\n",
    "  0.3100538413750259,\n",
    "  0.24437836578648067,\n",
    "  0.1303499023877459,\n",
    "  0.01363283764379673]\n",
    "plt.scatter(fa_list,accuracy_list)\n",
    "plt.scatter(fa_list,auc_list)\n",
    "plt.scatter(fa_list,f1_list)\n",
    "plt.legend(['Accuracy','ROC AUC score', 'F1 score'])\n",
    "plt.show()\n"
   ]
  },
  {
   "cell_type": "code",
   "execution_count": 9,
   "metadata": {},
   "outputs": [
    {
     "data": {
      "text/plain": [
       "(0.908095, 0.5705903378676136, 0.24437836578648067)"
      ]
     },
     "execution_count": 9,
     "metadata": {},
     "output_type": "execute_result"
    }
   ],
   "source": [
    "score(df_test_y,pred_test)"
   ]
  },
  {
   "cell_type": "code",
   "execution_count": null,
   "metadata": {},
   "outputs": [],
   "source": [
    "Fa=[100,85,75,60,40,20]\n",
    "accuracy=[0.9045471428571429,0.900395]\n",
    "auc_score=[0.5378830396854314,0.5031788887870942]\n",
    "f1_score0=[0.95,0.95,0.95]\n",
    "f1_score1=[0.24,0.13,0.01 ]\n",
    "\n"
   ]
  },
  {
   "cell_type": "code",
   "execution_count": 53,
   "metadata": {},
   "outputs": [
    {
     "name": "stdout",
     "output_type": "stream",
     "text": [
      "The accuracy on the test set is 0.908095 and the AUC is 0.5705903378676136\n"
     ]
    }
   ],
   "source": [
    "pred_test=model.predict(df_test_x)\n",
    "print(f'The accuracy on the test set is {accuracy_score(df_test_y,pred_test)} and the AUC is {roc_auc_score(df_test_y,pred_test)}')"
   ]
  },
  {
   "cell_type": "code",
   "execution_count": 19,
   "metadata": {},
   "outputs": [
    {
     "name": "stdout",
     "output_type": "stream",
     "text": [
      "0.9001916666666666\n",
      "0.5\n"
     ]
    }
   ],
   "source": [
    "pred_base=np.zeros_like(pred_test)\n",
    "print(accuracy_score(df_test_y,pred_base))\n",
    "print(roc_auc_score(df_test_y,pred_base))"
   ]
  },
  {
   "cell_type": "code",
   "execution_count": null,
   "metadata": {},
   "outputs": [],
   "source": [
    "from sklearn.ensemble import RandomForestClassifier\n",
    "rforestmodel=RandomForestClassifier(n_jobs=-1)\n",
    "rforestmodel.fit(df_train_x,df_train_y)\n",
    "pred_test=rforestmodel.predict(df_test_x)"
   ]
  },
  {
   "cell_type": "code",
   "execution_count": 23,
   "metadata": {},
   "outputs": [
    {
     "name": "stdout",
     "output_type": "stream",
     "text": [
      "0.9002816666666666\n",
      "0.504177515095089\n"
     ]
    }
   ],
   "source": [
    "print(accuracy_score(df_test_y,pred_test))\n",
    "print(roc_auc_score(df_test_y,pred_test))"
   ]
  },
  {
   "cell_type": "code",
   "execution_count": 39,
   "metadata": {},
   "outputs": [
    {
     "name": "stderr",
     "output_type": "stream",
     "text": [
      "C:\\Users\\Pedro\\AppData\\Local\\Temp\\ipykernel_12060\\3059332063.py:3: UserWarning: Dataset has 0 variance; skipping density estimate. Pass `warn_singular=False` to disable this warning.\n",
      "  sns.kdeplot(data[data['activity'] == 0][col], label=\"Pasivas\", fill=True)\n",
      "C:\\Users\\Pedro\\AppData\\Local\\Temp\\ipykernel_12060\\3059332063.py:4: UserWarning: Dataset has 0 variance; skipping density estimate. Pass `warn_singular=False` to disable this warning.\n",
      "  sns.kdeplot(data[data['activity'] == 1][col], label=\"Activas\", fill=True)\n",
      "C:\\Users\\Pedro\\AppData\\Local\\Temp\\ipykernel_12060\\3059332063.py:6: UserWarning: No artists with labels found to put in legend.  Note that artists whose label start with an underscore are ignored when legend() is called with no argument.\n",
      "  plt.legend()\n"
     ]
    }
   ],
   "source": [
    "import seaborn as sns\n",
    "for col in data.columns:\n",
    "    sns.kdeplot(data[data['activity'] == 0][col], label=\"Pasivas\", fill=True)\n",
    "    sns.kdeplot(data[data['activity'] == 1][col], label=\"Activas\", fill=True)\n",
    "    plt.title(col)\n",
    "    plt.legend()\n",
    "    plt.savefig(f\"{col}_distribution.png\")  # Guarda la imagen\n",
    "    plt.close()  # Cierra la figura para liberar memoria"
   ]
  },
  {
   "cell_type": "code",
   "execution_count": 53,
   "metadata": {},
   "outputs": [],
   "source": [
    "import joblib\n",
    "density=0.1\n",
    "fa=100\n",
    "model,features,target,df_test_y,df_test_x=joblib.load(f\"phia{density}/gb-model-{density}-Fa{fa}.pkl\")"
   ]
  },
  {
   "cell_type": "code",
   "execution_count": 54,
   "metadata": {},
   "outputs": [],
   "source": [
    "pred=model.predict(df_test_x)"
   ]
  },
  {
   "cell_type": "code",
   "execution_count": 55,
   "metadata": {},
   "outputs": [
    {
     "data": {
      "text/plain": [
       "0.91495"
      ]
     },
     "execution_count": 55,
     "metadata": {},
     "output_type": "execute_result"
    }
   ],
   "source": [
    "accuracy_score(df_test_y,pred)"
   ]
  },
  {
   "cell_type": "code",
   "execution_count": 56,
   "metadata": {},
   "outputs": [
    {
     "data": {
      "text/plain": [
       "0.6266326880740732"
      ]
     },
     "execution_count": 56,
     "metadata": {},
     "output_type": "execute_result"
    }
   ],
   "source": [
    "roc_auc_score(df_test_y,pred)"
   ]
  },
  {
   "cell_type": "code",
   "execution_count": 16,
   "metadata": {},
   "outputs": [],
   "source": [
    "import numpy as np\n",
    "l1=[1,2,3,4]\n",
    "l2=[10,20,30,40]\n",
    "d=dict(zip(l1,l2))"
   ]
  },
  {
   "cell_type": "code",
   "execution_count": 17,
   "metadata": {},
   "outputs": [
    {
     "name": "stdout",
     "output_type": "stream",
     "text": [
      "10\n",
      "20\n",
      "30\n",
      "40\n"
     ]
    }
   ],
   "source": [
    "for i in l1:\n",
    "    print(d[i])"
   ]
  },
  {
   "cell_type": "code",
   "execution_count": null,
   "metadata": {},
   "outputs": [],
   "source": []
  }
 ],
 "metadata": {
  "kernelspec": {
   "display_name": "myenvprueba",
   "language": "python",
   "name": "python3"
  },
  "language_info": {
   "codemirror_mode": {
    "name": "ipython",
    "version": 3
   },
   "file_extension": ".py",
   "mimetype": "text/x-python",
   "name": "python",
   "nbconvert_exporter": "python",
   "pygments_lexer": "ipython3",
   "version": "3.10.5"
  }
 },
 "nbformat": 4,
 "nbformat_minor": 2
}
