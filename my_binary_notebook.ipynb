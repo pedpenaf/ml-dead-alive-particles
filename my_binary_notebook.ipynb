{
 "cells": [
  {
   "cell_type": "code",
   "execution_count": 1,
   "metadata": {},
   "outputs": [],
   "source": [
    "import sys\n",
    "import pandas as pd\n",
    "import numpy as np\n",
    "from sklearn.model_selection import train_test_split\n",
    "import time\n",
    "from sklearn.neural_network import MLPClassifier\n",
    "from sklearn.metrics import f1_score,accuracy_score,roc_auc_score\n",
    "from sklearn.model_selection import GridSearchCV\n",
    "from sklearn.metrics import classification_report\n",
    "import os\n",
    "import matplotlib.pyplot as plt\n",
    "import matplotlib.pylab as pl\n",
    "#import matplotlib\n",
    "# matplotlib.use('Agg')\n",
    "import lightgbm as lgb\n",
    "from sklearn import metrics\n",
    "from numpy.ma import MaskedArray\n",
    "import sklearn.utils.fixes\n",
    "sklearn.utils.fixes.MaskedArray = MaskedArray\n",
    "from sklearn.model_selection import train_test_split\n",
    "#from sklearn.metrics import plot_confusion_matrix\n",
    "import shap"
   ]
  },
  {
   "cell_type": "code",
   "execution_count": 8,
   "metadata": {},
   "outputs": [
    {
     "name": "stdout",
     "output_type": "stream",
     "text": [
      "Start loading data file \n",
      "------------ BEGIN TRAIN DATAFRAME COLUMNS ------------------\n",
      "Index(['area', 'perimeter', 'neighbours', 'max neighbour distance',\n",
      "       'min neighbour distance', 'max vertices distance',\n",
      "       'min vertices distance', 'max vertices-point distance',\n",
      "       'min vertices-point distance', 'distance to center', 'activity',\n",
      "       'particle type'],\n",
      "      dtype='object')\n",
      "------------- END TRAIN DATAFRAME COLUMNS -------------------\n"
     ]
    }
   ],
   "source": [
    "# **************** Loading the data\n",
    "# For the example I am usign a table in csv format, but if your data are larger you can use other formats compatible with pandas, like .pickle\n",
    "print(\"Start loading data file \")\n",
    "\n",
    "cols_names=['area', 'perimeter', 'neighbours', 'max neighbour distance',\n",
    "       'min neighbour distance', 'max vertices distance',\n",
    "       'min vertices distance', 'max vertices-point distance',\n",
    "       'min vertices-point distance', 'distance to center', 'activity',\n",
    "       'particle type']\n",
    "input_file='phia0.2/particles-features-0.2-Fa100.txt'\n",
    "data = pd.read_csv(input_file, delimiter=' ',names=cols_names)\n",
    "\n",
    "#print(data)\n",
    "\n",
    "\n",
    "# *** Split the available data in training and test\n",
    "# the model will be trained only using the training data\n",
    "# so we can evaluate the performance on a different (test) set, that is new for the ML model\n",
    "df_train, df_test = train_test_split(data, random_state=50, test_size=0.3)\n",
    "\n",
    "print('------------ BEGIN TRAIN DATAFRAME COLUMNS ------------------')\n",
    "print(df_train.columns)\n",
    "print('------------- END TRAIN DATAFRAME COLUMNS -------------------')\n"
   ]
  },
  {
   "cell_type": "code",
   "execution_count": 9,
   "metadata": {},
   "outputs": [
    {
     "data": {
      "text/html": [
       "<div>\n",
       "<style scoped>\n",
       "    .dataframe tbody tr th:only-of-type {\n",
       "        vertical-align: middle;\n",
       "    }\n",
       "\n",
       "    .dataframe tbody tr th {\n",
       "        vertical-align: top;\n",
       "    }\n",
       "\n",
       "    .dataframe thead th {\n",
       "        text-align: right;\n",
       "    }\n",
       "</style>\n",
       "<table border=\"1\" class=\"dataframe\">\n",
       "  <thead>\n",
       "    <tr style=\"text-align: right;\">\n",
       "      <th></th>\n",
       "      <th>area</th>\n",
       "      <th>perimeter</th>\n",
       "      <th>neighbours</th>\n",
       "      <th>max neighbour distance</th>\n",
       "      <th>min neighbour distance</th>\n",
       "      <th>max vertices distance</th>\n",
       "      <th>min vertices distance</th>\n",
       "      <th>max vertices-point distance</th>\n",
       "      <th>min vertices-point distance</th>\n",
       "      <th>distance to center</th>\n",
       "      <th>activity</th>\n",
       "      <th>particle type</th>\n",
       "    </tr>\n",
       "  </thead>\n",
       "  <tbody>\n",
       "    <tr>\n",
       "      <th>256079</th>\n",
       "      <td>1.047011</td>\n",
       "      <td>4.178238</td>\n",
       "      <td>7.0</td>\n",
       "      <td>2.201113</td>\n",
       "      <td>0.859966</td>\n",
       "      <td>1.585309</td>\n",
       "      <td>0.074016</td>\n",
       "      <td>1.115118</td>\n",
       "      <td>0.509757</td>\n",
       "      <td>0.200030</td>\n",
       "      <td>1.0</td>\n",
       "      <td>1.0</td>\n",
       "    </tr>\n",
       "    <tr>\n",
       "      <th>223616</th>\n",
       "      <td>0.843462</td>\n",
       "      <td>3.576157</td>\n",
       "      <td>6.0</td>\n",
       "      <td>1.383122</td>\n",
       "      <td>0.763237</td>\n",
       "      <td>1.295792</td>\n",
       "      <td>0.288507</td>\n",
       "      <td>0.770265</td>\n",
       "      <td>0.484701</td>\n",
       "      <td>0.056127</td>\n",
       "      <td>0.0</td>\n",
       "      <td>1.0</td>\n",
       "    </tr>\n",
       "    <tr>\n",
       "      <th>106357</th>\n",
       "      <td>1.443148</td>\n",
       "      <td>4.596134</td>\n",
       "      <td>7.0</td>\n",
       "      <td>1.884285</td>\n",
       "      <td>0.809504</td>\n",
       "      <td>1.591790</td>\n",
       "      <td>0.141635</td>\n",
       "      <td>0.981149</td>\n",
       "      <td>0.527731</td>\n",
       "      <td>0.232712</td>\n",
       "      <td>0.0</td>\n",
       "      <td>1.0</td>\n",
       "    </tr>\n",
       "    <tr>\n",
       "      <th>249231</th>\n",
       "      <td>0.793610</td>\n",
       "      <td>3.328668</td>\n",
       "      <td>6.0</td>\n",
       "      <td>1.025938</td>\n",
       "      <td>0.854045</td>\n",
       "      <td>1.128944</td>\n",
       "      <td>0.456989</td>\n",
       "      <td>0.580893</td>\n",
       "      <td>0.502361</td>\n",
       "      <td>0.027720</td>\n",
       "      <td>0.0</td>\n",
       "      <td>1.0</td>\n",
       "    </tr>\n",
       "    <tr>\n",
       "      <th>62589</th>\n",
       "      <td>0.723417</td>\n",
       "      <td>3.261669</td>\n",
       "      <td>6.0</td>\n",
       "      <td>1.084644</td>\n",
       "      <td>0.777992</td>\n",
       "      <td>1.099648</td>\n",
       "      <td>0.221656</td>\n",
       "      <td>0.593483</td>\n",
       "      <td>0.516046</td>\n",
       "      <td>0.014075</td>\n",
       "      <td>0.0</td>\n",
       "      <td>1.0</td>\n",
       "    </tr>\n",
       "    <tr>\n",
       "      <th>...</th>\n",
       "      <td>...</td>\n",
       "      <td>...</td>\n",
       "      <td>...</td>\n",
       "      <td>...</td>\n",
       "      <td>...</td>\n",
       "      <td>...</td>\n",
       "      <td>...</td>\n",
       "      <td>...</td>\n",
       "      <td>...</td>\n",
       "      <td>...</td>\n",
       "      <td>...</td>\n",
       "      <td>...</td>\n",
       "    </tr>\n",
       "    <tr>\n",
       "      <th>385156</th>\n",
       "      <td>0.853660</td>\n",
       "      <td>3.547469</td>\n",
       "      <td>7.0</td>\n",
       "      <td>1.573611</td>\n",
       "      <td>0.787837</td>\n",
       "      <td>1.333288</td>\n",
       "      <td>0.062805</td>\n",
       "      <td>0.802532</td>\n",
       "      <td>0.500713</td>\n",
       "      <td>0.125366</td>\n",
       "      <td>1.0</td>\n",
       "      <td>0.0</td>\n",
       "    </tr>\n",
       "    <tr>\n",
       "      <th>321502</th>\n",
       "      <td>0.824707</td>\n",
       "      <td>3.457657</td>\n",
       "      <td>6.0</td>\n",
       "      <td>1.173055</td>\n",
       "      <td>0.824915</td>\n",
       "      <td>1.247192</td>\n",
       "      <td>0.238863</td>\n",
       "      <td>0.670915</td>\n",
       "      <td>0.523636</td>\n",
       "      <td>0.039653</td>\n",
       "      <td>0.0</td>\n",
       "      <td>1.0</td>\n",
       "    </tr>\n",
       "    <tr>\n",
       "      <th>153709</th>\n",
       "      <td>0.852645</td>\n",
       "      <td>3.520109</td>\n",
       "      <td>7.0</td>\n",
       "      <td>1.324826</td>\n",
       "      <td>0.930400</td>\n",
       "      <td>1.200821</td>\n",
       "      <td>0.033387</td>\n",
       "      <td>0.664345</td>\n",
       "      <td>0.557557</td>\n",
       "      <td>0.028646</td>\n",
       "      <td>0.0</td>\n",
       "      <td>1.0</td>\n",
       "    </tr>\n",
       "    <tr>\n",
       "      <th>239499</th>\n",
       "      <td>0.664348</td>\n",
       "      <td>3.064091</td>\n",
       "      <td>6.0</td>\n",
       "      <td>0.988707</td>\n",
       "      <td>0.754418</td>\n",
       "      <td>1.104906</td>\n",
       "      <td>0.340833</td>\n",
       "      <td>0.553945</td>\n",
       "      <td>0.490128</td>\n",
       "      <td>0.009155</td>\n",
       "      <td>0.0</td>\n",
       "      <td>1.0</td>\n",
       "    </tr>\n",
       "    <tr>\n",
       "      <th>103904</th>\n",
       "      <td>0.776876</td>\n",
       "      <td>3.353301</td>\n",
       "      <td>6.0</td>\n",
       "      <td>1.088460</td>\n",
       "      <td>0.851727</td>\n",
       "      <td>1.208042</td>\n",
       "      <td>0.204595</td>\n",
       "      <td>0.606146</td>\n",
       "      <td>0.529625</td>\n",
       "      <td>0.004313</td>\n",
       "      <td>0.0</td>\n",
       "      <td>0.0</td>\n",
       "    </tr>\n",
       "  </tbody>\n",
       "</table>\n",
       "<p>280700 rows × 12 columns</p>\n",
       "</div>"
      ],
      "text/plain": [
       "            area  perimeter  neighbours  max neighbour distance  \\\n",
       "256079  1.047011   4.178238         7.0                2.201113   \n",
       "223616  0.843462   3.576157         6.0                1.383122   \n",
       "106357  1.443148   4.596134         7.0                1.884285   \n",
       "249231  0.793610   3.328668         6.0                1.025938   \n",
       "62589   0.723417   3.261669         6.0                1.084644   \n",
       "...          ...        ...         ...                     ...   \n",
       "385156  0.853660   3.547469         7.0                1.573611   \n",
       "321502  0.824707   3.457657         6.0                1.173055   \n",
       "153709  0.852645   3.520109         7.0                1.324826   \n",
       "239499  0.664348   3.064091         6.0                0.988707   \n",
       "103904  0.776876   3.353301         6.0                1.088460   \n",
       "\n",
       "        min neighbour distance  max vertices distance  min vertices distance  \\\n",
       "256079                0.859966               1.585309               0.074016   \n",
       "223616                0.763237               1.295792               0.288507   \n",
       "106357                0.809504               1.591790               0.141635   \n",
       "249231                0.854045               1.128944               0.456989   \n",
       "62589                 0.777992               1.099648               0.221656   \n",
       "...                        ...                    ...                    ...   \n",
       "385156                0.787837               1.333288               0.062805   \n",
       "321502                0.824915               1.247192               0.238863   \n",
       "153709                0.930400               1.200821               0.033387   \n",
       "239499                0.754418               1.104906               0.340833   \n",
       "103904                0.851727               1.208042               0.204595   \n",
       "\n",
       "        max vertices-point distance  min vertices-point distance  \\\n",
       "256079                     1.115118                     0.509757   \n",
       "223616                     0.770265                     0.484701   \n",
       "106357                     0.981149                     0.527731   \n",
       "249231                     0.580893                     0.502361   \n",
       "62589                      0.593483                     0.516046   \n",
       "...                             ...                          ...   \n",
       "385156                     0.802532                     0.500713   \n",
       "321502                     0.670915                     0.523636   \n",
       "153709                     0.664345                     0.557557   \n",
       "239499                     0.553945                     0.490128   \n",
       "103904                     0.606146                     0.529625   \n",
       "\n",
       "        distance to center  activity  particle type  \n",
       "256079            0.200030       1.0            1.0  \n",
       "223616            0.056127       0.0            1.0  \n",
       "106357            0.232712       0.0            1.0  \n",
       "249231            0.027720       0.0            1.0  \n",
       "62589             0.014075       0.0            1.0  \n",
       "...                    ...       ...            ...  \n",
       "385156            0.125366       1.0            0.0  \n",
       "321502            0.039653       0.0            1.0  \n",
       "153709            0.028646       0.0            1.0  \n",
       "239499            0.009155       0.0            1.0  \n",
       "103904            0.004313       0.0            0.0  \n",
       "\n",
       "[280700 rows x 12 columns]"
      ]
     },
     "execution_count": 9,
     "metadata": {},
     "output_type": "execute_result"
    }
   ],
   "source": [
    "df_train"
   ]
  },
  {
   "cell_type": "code",
   "execution_count": 10,
   "metadata": {},
   "outputs": [
    {
     "data": {
      "text/html": [
       "<div>\n",
       "<style scoped>\n",
       "    .dataframe tbody tr th:only-of-type {\n",
       "        vertical-align: middle;\n",
       "    }\n",
       "\n",
       "    .dataframe tbody tr th {\n",
       "        vertical-align: top;\n",
       "    }\n",
       "\n",
       "    .dataframe thead th {\n",
       "        text-align: right;\n",
       "    }\n",
       "</style>\n",
       "<table border=\"1\" class=\"dataframe\">\n",
       "  <thead>\n",
       "    <tr style=\"text-align: right;\">\n",
       "      <th></th>\n",
       "      <th>area</th>\n",
       "      <th>perimeter</th>\n",
       "      <th>neighbours</th>\n",
       "      <th>max neighbour distance</th>\n",
       "      <th>min neighbour distance</th>\n",
       "      <th>max vertices distance</th>\n",
       "      <th>min vertices distance</th>\n",
       "      <th>max vertices-point distance</th>\n",
       "      <th>min vertices-point distance</th>\n",
       "      <th>distance to center</th>\n",
       "      <th>activity</th>\n",
       "      <th>particle type</th>\n",
       "    </tr>\n",
       "  </thead>\n",
       "  <tbody>\n",
       "    <tr>\n",
       "      <th>356285</th>\n",
       "      <td>0.862720</td>\n",
       "      <td>3.560365</td>\n",
       "      <td>6.0</td>\n",
       "      <td>1.282138</td>\n",
       "      <td>0.850024</td>\n",
       "      <td>1.237910</td>\n",
       "      <td>0.266768</td>\n",
       "      <td>0.668870</td>\n",
       "      <td>0.537921</td>\n",
       "      <td>0.057779</td>\n",
       "      <td>0.0</td>\n",
       "      <td>1.0</td>\n",
       "    </tr>\n",
       "    <tr>\n",
       "      <th>208432</th>\n",
       "      <td>0.697077</td>\n",
       "      <td>3.147268</td>\n",
       "      <td>6.0</td>\n",
       "      <td>1.067320</td>\n",
       "      <td>0.808950</td>\n",
       "      <td>1.064000</td>\n",
       "      <td>0.324711</td>\n",
       "      <td>0.578226</td>\n",
       "      <td>0.485662</td>\n",
       "      <td>0.042624</td>\n",
       "      <td>0.0</td>\n",
       "      <td>1.0</td>\n",
       "    </tr>\n",
       "    <tr>\n",
       "      <th>176817</th>\n",
       "      <td>0.607334</td>\n",
       "      <td>2.989735</td>\n",
       "      <td>5.0</td>\n",
       "      <td>0.898130</td>\n",
       "      <td>0.750549</td>\n",
       "      <td>1.055932</td>\n",
       "      <td>0.490923</td>\n",
       "      <td>0.541111</td>\n",
       "      <td>0.470767</td>\n",
       "      <td>0.003823</td>\n",
       "      <td>0.0</td>\n",
       "      <td>0.0</td>\n",
       "    </tr>\n",
       "    <tr>\n",
       "      <th>61545</th>\n",
       "      <td>0.951954</td>\n",
       "      <td>3.834312</td>\n",
       "      <td>6.0</td>\n",
       "      <td>1.450819</td>\n",
       "      <td>0.846600</td>\n",
       "      <td>1.302368</td>\n",
       "      <td>0.192530</td>\n",
       "      <td>0.742805</td>\n",
       "      <td>0.560335</td>\n",
       "      <td>0.043711</td>\n",
       "      <td>0.0</td>\n",
       "      <td>1.0</td>\n",
       "    </tr>\n",
       "    <tr>\n",
       "      <th>251567</th>\n",
       "      <td>0.851699</td>\n",
       "      <td>3.568114</td>\n",
       "      <td>6.0</td>\n",
       "      <td>1.226069</td>\n",
       "      <td>0.789624</td>\n",
       "      <td>1.239907</td>\n",
       "      <td>0.196848</td>\n",
       "      <td>0.649284</td>\n",
       "      <td>0.592010</td>\n",
       "      <td>0.020866</td>\n",
       "      <td>0.0</td>\n",
       "      <td>1.0</td>\n",
       "    </tr>\n",
       "    <tr>\n",
       "      <th>...</th>\n",
       "      <td>...</td>\n",
       "      <td>...</td>\n",
       "      <td>...</td>\n",
       "      <td>...</td>\n",
       "      <td>...</td>\n",
       "      <td>...</td>\n",
       "      <td>...</td>\n",
       "      <td>...</td>\n",
       "      <td>...</td>\n",
       "      <td>...</td>\n",
       "      <td>...</td>\n",
       "      <td>...</td>\n",
       "    </tr>\n",
       "    <tr>\n",
       "      <th>31257</th>\n",
       "      <td>0.980678</td>\n",
       "      <td>3.840923</td>\n",
       "      <td>6.0</td>\n",
       "      <td>1.354348</td>\n",
       "      <td>0.828374</td>\n",
       "      <td>1.341337</td>\n",
       "      <td>0.111404</td>\n",
       "      <td>0.738692</td>\n",
       "      <td>0.559965</td>\n",
       "      <td>0.086522</td>\n",
       "      <td>0.0</td>\n",
       "      <td>1.0</td>\n",
       "    </tr>\n",
       "    <tr>\n",
       "      <th>339003</th>\n",
       "      <td>0.924079</td>\n",
       "      <td>3.682522</td>\n",
       "      <td>6.0</td>\n",
       "      <td>1.419942</td>\n",
       "      <td>0.804500</td>\n",
       "      <td>1.277137</td>\n",
       "      <td>0.178859</td>\n",
       "      <td>0.734591</td>\n",
       "      <td>0.513996</td>\n",
       "      <td>0.110695</td>\n",
       "      <td>1.0</td>\n",
       "      <td>1.0</td>\n",
       "    </tr>\n",
       "    <tr>\n",
       "      <th>177187</th>\n",
       "      <td>2.005321</td>\n",
       "      <td>5.652876</td>\n",
       "      <td>7.0</td>\n",
       "      <td>2.385760</td>\n",
       "      <td>0.877376</td>\n",
       "      <td>2.290972</td>\n",
       "      <td>0.208174</td>\n",
       "      <td>1.588113</td>\n",
       "      <td>0.688401</td>\n",
       "      <td>0.394747</td>\n",
       "      <td>1.0</td>\n",
       "      <td>0.0</td>\n",
       "    </tr>\n",
       "    <tr>\n",
       "      <th>212221</th>\n",
       "      <td>3.042992</td>\n",
       "      <td>6.447470</td>\n",
       "      <td>9.0</td>\n",
       "      <td>3.077431</td>\n",
       "      <td>1.091575</td>\n",
       "      <td>2.300149</td>\n",
       "      <td>0.166270</td>\n",
       "      <td>1.621860</td>\n",
       "      <td>0.699589</td>\n",
       "      <td>0.463463</td>\n",
       "      <td>0.0</td>\n",
       "      <td>1.0</td>\n",
       "    </tr>\n",
       "    <tr>\n",
       "      <th>321094</th>\n",
       "      <td>1.400397</td>\n",
       "      <td>4.631007</td>\n",
       "      <td>6.0</td>\n",
       "      <td>1.788559</td>\n",
       "      <td>0.740491</td>\n",
       "      <td>1.698840</td>\n",
       "      <td>0.075746</td>\n",
       "      <td>1.190396</td>\n",
       "      <td>0.496461</td>\n",
       "      <td>0.305298</td>\n",
       "      <td>1.0</td>\n",
       "      <td>1.0</td>\n",
       "    </tr>\n",
       "  </tbody>\n",
       "</table>\n",
       "<p>120300 rows × 12 columns</p>\n",
       "</div>"
      ],
      "text/plain": [
       "            area  perimeter  neighbours  max neighbour distance  \\\n",
       "356285  0.862720   3.560365         6.0                1.282138   \n",
       "208432  0.697077   3.147268         6.0                1.067320   \n",
       "176817  0.607334   2.989735         5.0                0.898130   \n",
       "61545   0.951954   3.834312         6.0                1.450819   \n",
       "251567  0.851699   3.568114         6.0                1.226069   \n",
       "...          ...        ...         ...                     ...   \n",
       "31257   0.980678   3.840923         6.0                1.354348   \n",
       "339003  0.924079   3.682522         6.0                1.419942   \n",
       "177187  2.005321   5.652876         7.0                2.385760   \n",
       "212221  3.042992   6.447470         9.0                3.077431   \n",
       "321094  1.400397   4.631007         6.0                1.788559   \n",
       "\n",
       "        min neighbour distance  max vertices distance  min vertices distance  \\\n",
       "356285                0.850024               1.237910               0.266768   \n",
       "208432                0.808950               1.064000               0.324711   \n",
       "176817                0.750549               1.055932               0.490923   \n",
       "61545                 0.846600               1.302368               0.192530   \n",
       "251567                0.789624               1.239907               0.196848   \n",
       "...                        ...                    ...                    ...   \n",
       "31257                 0.828374               1.341337               0.111404   \n",
       "339003                0.804500               1.277137               0.178859   \n",
       "177187                0.877376               2.290972               0.208174   \n",
       "212221                1.091575               2.300149               0.166270   \n",
       "321094                0.740491               1.698840               0.075746   \n",
       "\n",
       "        max vertices-point distance  min vertices-point distance  \\\n",
       "356285                     0.668870                     0.537921   \n",
       "208432                     0.578226                     0.485662   \n",
       "176817                     0.541111                     0.470767   \n",
       "61545                      0.742805                     0.560335   \n",
       "251567                     0.649284                     0.592010   \n",
       "...                             ...                          ...   \n",
       "31257                      0.738692                     0.559965   \n",
       "339003                     0.734591                     0.513996   \n",
       "177187                     1.588113                     0.688401   \n",
       "212221                     1.621860                     0.699589   \n",
       "321094                     1.190396                     0.496461   \n",
       "\n",
       "        distance to center  activity  particle type  \n",
       "356285            0.057779       0.0            1.0  \n",
       "208432            0.042624       0.0            1.0  \n",
       "176817            0.003823       0.0            0.0  \n",
       "61545             0.043711       0.0            1.0  \n",
       "251567            0.020866       0.0            1.0  \n",
       "...                    ...       ...            ...  \n",
       "31257             0.086522       0.0            1.0  \n",
       "339003            0.110695       1.0            1.0  \n",
       "177187            0.394747       1.0            0.0  \n",
       "212221            0.463463       0.0            1.0  \n",
       "321094            0.305298       1.0            1.0  \n",
       "\n",
       "[120300 rows x 12 columns]"
      ]
     },
     "execution_count": 10,
     "metadata": {},
     "output_type": "execute_result"
    }
   ],
   "source": [
    "df_test"
   ]
  },
  {
   "cell_type": "code",
   "execution_count": 11,
   "metadata": {},
   "outputs": [
    {
     "name": "stdout",
     "output_type": "stream",
     "text": [
      "create x/y dataframes (train set)\n",
      "create x/y dataframes (test set)\n"
     ]
    }
   ],
   "source": [
    "print(\"create x/y dataframes (train set)\")\n",
    "# In this particulat proble we want to identify if a specific particle 'is_active' or not\n",
    "# so we have to do a binary classification of the column 'is_active'\n",
    "df_train_y = df_train['activity'].copy().astype('int')\n",
    "df_train.drop(columns='activity', inplace=True)\n",
    "df_train_x = df_train\n",
    "\n",
    "print(\"create x/y dataframes (test set)\")\n",
    "df_test_y = df_test['activity'].copy().astype('int')\n",
    "df_test.drop(columns='activity', inplace=True)\n",
    "df_test_x = df_test"
   ]
  },
  {
   "cell_type": "code",
   "execution_count": 12,
   "metadata": {},
   "outputs": [
    {
     "name": "stdout",
     "output_type": "stream",
     "text": [
      "\n",
      "\n",
      "*** Using a gradient boosting algorithm\n",
      "[LightGBM] [Warning] early_stopping_round is set=10, early_stopping_rounds=10 will be ignored. Current value: early_stopping_round=10\n",
      "[LightGBM] [Warning] Found whitespace in feature_names, replace with underlines\n",
      "[LightGBM] [Info] Number of positive: 56159, number of negative: 224541\n",
      "[LightGBM] [Info] Auto-choosing col-wise multi-threading, the overhead of testing was 0.006624 seconds.\n",
      "You can set `force_col_wise=true` to remove the overhead.\n",
      "[LightGBM] [Info] Total Bins 2306\n",
      "[LightGBM] [Info] Number of data points in the train set: 280700, number of used features: 11\n",
      "[LightGBM] [Warning] early_stopping_round is set=10, early_stopping_rounds=10 will be ignored. Current value: early_stopping_round=10\n",
      "[LightGBM] [Warning] Found whitespace in feature_names, replace with underlines\n",
      "[LightGBM] [Info] [binary:BoostFromScore]: pavg=0.200068 -> initscore=-1.385871\n",
      "[LightGBM] [Info] Start training from score -1.385871\n",
      "Training until validation scores don't improve for 10 rounds\n"
     ]
    },
    {
     "name": "stderr",
     "output_type": "stream",
     "text": [
      "c:\\Users\\Pedro\\AppData\\Local\\Programs\\Python\\Python310\\lib\\site-packages\\lightgbm\\engine.py:204: UserWarning: Found `num_iterations` in params. Will use it instead of argument\n",
      "  _log_warning(f\"Found `{alias}` in params. Will use it instead of argument\")\n"
     ]
    },
    {
     "name": "stdout",
     "output_type": "stream",
     "text": [
      "Early stopping, best iteration is:\n",
      "[1044]\ttraining's binary_logloss: 0.387569\tvalid_1's binary_logloss: 0.411497\n",
      "\n",
      "\n",
      "***Training accuracy 0.8373\n",
      "***Testing accuracy 0.8283\n",
      "\n",
      "              precision    recall  f1-score   support\n",
      "\n",
      "           0       0.84      0.97      0.90     96259\n",
      "           1       0.69      0.26      0.37     24041\n",
      "\n",
      "    accuracy                           0.83    120300\n",
      "   macro avg       0.76      0.61      0.64    120300\n",
      "weighted avg       0.81      0.83      0.79    120300\n",
      "\n"
     ]
    }
   ],
   "source": [
    "print('\\n\\n*** Using a gradient boosting algorithm')\n",
    "# This is a more advanced algorithm that is explained here:https://lightgbm.readthedocs.io/en/latest/pythonapi/lightgbm.LGBMClassifier.html\n",
    "model = lgb.LGBMClassifier(learning_rate=0.01,num_leaves=100,max_depth=15, early_stopping_rounds=10, num_iterations=3000, random_state=42)\n",
    "\n",
    "model.fit(df_train_x,df_train_y,eval_set=[(df_train_x,df_train_y),(df_test_x,df_test_y)],\n",
    "            eval_metric='binary')\n",
    "print('\\n\\n***Training accuracy {:.4f}'.format(model.score(df_train_x,df_train_y)))\n",
    "print('***Testing accuracy {:.4f}\\n'.format(model.score(df_test_x,df_test_y)))\n",
    "\n",
    "print(metrics.classification_report(df_test_y,model.predict(df_test_x)))"
   ]
  },
  {
   "cell_type": "code",
   "execution_count": 6,
   "metadata": {},
   "outputs": [
    {
     "data": {
      "text/plain": [
       "0.5950115028085902"
      ]
     },
     "execution_count": 6,
     "metadata": {},
     "output_type": "execute_result"
    }
   ],
   "source": [
    "pred_test=model.predict(df_test_x)\n",
    "from sklearn.metrics import roc_auc_score\n",
    "roc_auc_score(df_test_y,pred_test)"
   ]
  },
  {
   "cell_type": "code",
   "execution_count": 7,
   "metadata": {},
   "outputs": [
    {
     "data": {
      "text/plain": [
       "0.3100538413750259"
      ]
     },
     "execution_count": 7,
     "metadata": {},
     "output_type": "execute_result"
    }
   ],
   "source": [
    "f1_score(df_test_y,pred_test)"
   ]
  },
  {
   "cell_type": "code",
   "execution_count": 23,
   "metadata": {},
   "outputs": [],
   "source": [
    "#Returns accuracy,auc,f1_score\n",
    "def score(y,pred):\n",
    "    return accuracy_score(y,pred),roc_auc_score(y,pred),f1_score(y,pred)"
   ]
  },
  {
   "cell_type": "code",
   "execution_count": 22,
   "metadata": {},
   "outputs": [
    {
     "data": {
      "text/html": [
       "<div>\n",
       "<style scoped>\n",
       "    .dataframe tbody tr th:only-of-type {\n",
       "        vertical-align: middle;\n",
       "    }\n",
       "\n",
       "    .dataframe tbody tr th {\n",
       "        vertical-align: top;\n",
       "    }\n",
       "\n",
       "    .dataframe thead th {\n",
       "        text-align: right;\n",
       "    }\n",
       "</style>\n",
       "<table border=\"1\" class=\"dataframe\">\n",
       "  <thead>\n",
       "    <tr style=\"text-align: right;\">\n",
       "      <th></th>\n",
       "      <th>1 1 7.32901 24.9911</th>\n",
       "    </tr>\n",
       "  </thead>\n",
       "  <tbody>\n",
       "    <tr>\n",
       "      <th>0</th>\n",
       "      <td>2 1 24.2163 28.0885</td>\n",
       "    </tr>\n",
       "    <tr>\n",
       "      <th>1</th>\n",
       "      <td>3 1 24.8592 2.49579</td>\n",
       "    </tr>\n",
       "    <tr>\n",
       "      <th>2</th>\n",
       "      <td>4 1 16.2195 8.41785</td>\n",
       "    </tr>\n",
       "    <tr>\n",
       "      <th>3</th>\n",
       "      <td>5 1 10.2535 24.3277</td>\n",
       "    </tr>\n",
       "    <tr>\n",
       "      <th>4</th>\n",
       "      <td>6 1 19.2187 23.6963</td>\n",
       "    </tr>\n",
       "    <tr>\n",
       "      <th>...</th>\n",
       "      <td>...</td>\n",
       "    </tr>\n",
       "    <tr>\n",
       "      <th>2000994</th>\n",
       "      <td>996 4 26.0632 4.15549</td>\n",
       "    </tr>\n",
       "    <tr>\n",
       "      <th>2000995</th>\n",
       "      <td>997 4 23.9477 22.5588</td>\n",
       "    </tr>\n",
       "    <tr>\n",
       "      <th>2000996</th>\n",
       "      <td>998 4 25.0032 23.802</td>\n",
       "    </tr>\n",
       "    <tr>\n",
       "      <th>2000997</th>\n",
       "      <td>999 4 16.861 17.2506</td>\n",
       "    </tr>\n",
       "    <tr>\n",
       "      <th>2000998</th>\n",
       "      <td>1000 4 0.116802 8.69244</td>\n",
       "    </tr>\n",
       "  </tbody>\n",
       "</table>\n",
       "<p>2000999 rows × 1 columns</p>\n",
       "</div>"
      ],
      "text/plain": [
       "             1 1 7.32901 24.9911\n",
       "0            2 1 24.2163 28.0885\n",
       "1            3 1 24.8592 2.49579\n",
       "2            4 1 16.2195 8.41785\n",
       "3            5 1 10.2535 24.3277\n",
       "4            6 1 19.2187 23.6963\n",
       "...                          ...\n",
       "2000994    996 4 26.0632 4.15549\n",
       "2000995    997 4 23.9477 22.5588\n",
       "2000996     998 4 25.0032 23.802\n",
       "2000997     999 4 16.861 17.2506\n",
       "2000998  1000 4 0.116802 8.69244\n",
       "\n",
       "[2000999 rows x 1 columns]"
      ]
     },
     "execution_count": 22,
     "metadata": {},
     "output_type": "execute_result"
    }
   ],
   "source": [
    "df=pd.read_csv(\"phia0.1/traj_phia0.1-T05-Fa20-tau1.dat\")\n",
    "df \n"
   ]
  },
  {
   "cell_type": "code",
   "execution_count": 26,
   "metadata": {},
   "outputs": [],
   "source": [
    "def gb_model(df_train_x,df_train_y,df_test_x,df_test_y):\n",
    "    model = lgb.LGBMClassifier(learning_rate=0.01,num_leaves=100,max_depth=15, early_stopping_rounds=10, num_iterations=3000, random_state=42)\n",
    "\n",
    "    model.fit(df_train_x,df_train_y,eval_set=[(df_train_x,df_train_y),(df_test_x,df_test_y)],\n",
    "            eval_metric='binary')\n",
    "    return model"
   ]
  },
  {
   "cell_type": "code",
   "execution_count": 30,
   "metadata": {},
   "outputs": [],
   "source": [
    "def plot_score_Fa_depend(fa_list,density,model_method):\n",
    "    cols_names=['area', 'perimeter', 'neighbours', 'max neighbour distance',\n",
    "       'min neighbour distance', 'max vertices distance',\n",
    "       'min vertices distance', 'max vertices-point distance',\n",
    "       'min vertices-point distance', 'distance to center', 'activity',\n",
    "       'particle type']\n",
    "    accuracy_list=[]\n",
    "    auc_list=[]\n",
    "    f1_list=[]\n",
    "\n",
    "    for fa in fa_list:\n",
    "        input_file=f\"phia{density}/particles-features-{density}-Fa{fa}.txt\"\n",
    "        data = pd.read_csv(input_file, delimiter=' ',names=cols_names)\n",
    "\n",
    "        df_train, df_test = train_test_split(data, random_state=50, test_size=0.3)\n",
    "        df_train_y = df_train['activity'].copy().astype('int')\n",
    "        df_train.drop(columns='activity', inplace=True)\n",
    "        df_train_x = df_train\n",
    "\n",
    "        df_test_y = df_test['activity'].copy().astype('int')\n",
    "        df_test.drop(columns='activity', inplace=True)\n",
    "        df_test_x = df_test\n",
    "\n",
    "        model=model_method(df_train_x,df_train_y,df_test_x,df_test_y)\n",
    "        pred=model.predict(df_test_x)\n",
    "        accuracy,auc,f1=score(df_test_y,pred)\n",
    "        accuracy_list.append(accuracy)\n",
    "        auc_list.append(auc)\n",
    "        f1_list.append(f1)\n",
    "    \n",
    "    plt.scatter(fa_list,accuracy_list)\n",
    "    plt.scatter(fa_list,auc_list)\n",
    "    plt.scatter(fa_list,f1_list)\n",
    "    plt.legend(['Accuracy','ROC AUC score', 'F1 score'])\n",
    "    return accuracy_list,auc_list,f1_list\n",
    "        "
   ]
  },
  {
   "cell_type": "code",
   "execution_count": 31,
   "metadata": {},
   "outputs": [
    {
     "name": "stderr",
     "output_type": "stream",
     "text": [
      "c:\\Users\\Pedro\\Documentos\\pruebatfg\\myenvprueba\\lib\\site-packages\\lightgbm\\engine.py:204: UserWarning: Found `num_iterations` in params. Will use it instead of argument\n",
      "  _log_warning(f\"Found `{alias}` in params. Will use it instead of argument\")\n"
     ]
    },
    {
     "name": "stdout",
     "output_type": "stream",
     "text": [
      "[LightGBM] [Warning] early_stopping_round is set=10, early_stopping_rounds=10 will be ignored. Current value: early_stopping_round=10\n",
      "[LightGBM] [Warning] Found whitespace in feature_names, replace with underlines\n",
      "[LightGBM] [Info] Number of positive: 13991, number of negative: 126009\n",
      "[LightGBM] [Info] Auto-choosing row-wise multi-threading, the overhead of testing was 0.000643 seconds.\n",
      "You can set `force_row_wise=true` to remove the overhead.\n",
      "And if memory is not enough, you can set `force_col_wise=true`.\n",
      "[LightGBM] [Info] Total Bins 2306\n",
      "[LightGBM] [Info] Number of data points in the train set: 140000, number of used features: 11\n",
      "[LightGBM] [Warning] early_stopping_round is set=10, early_stopping_rounds=10 will be ignored. Current value: early_stopping_round=10\n",
      "[LightGBM] [Warning] Found whitespace in feature_names, replace with underlines\n",
      "[LightGBM] [Info] [binary:BoostFromScore]: pavg=0.099936 -> initscore=-2.197939\n",
      "[LightGBM] [Info] Start training from score -2.197939\n",
      "Training until validation scores don't improve for 10 rounds\n",
      "Early stopping, best iteration is:\n",
      "[626]\ttraining's binary_logloss: 0.208876\tvalid_1's binary_logloss: 0.23857\n"
     ]
    },
    {
     "name": "stderr",
     "output_type": "stream",
     "text": [
      "c:\\Users\\Pedro\\Documentos\\pruebatfg\\myenvprueba\\lib\\site-packages\\lightgbm\\engine.py:204: UserWarning: Found `num_iterations` in params. Will use it instead of argument\n",
      "  _log_warning(f\"Found `{alias}` in params. Will use it instead of argument\")\n"
     ]
    },
    {
     "name": "stdout",
     "output_type": "stream",
     "text": [
      "[LightGBM] [Warning] early_stopping_round is set=10, early_stopping_rounds=10 will be ignored. Current value: early_stopping_round=10\n",
      "[LightGBM] [Warning] Found whitespace in feature_names, replace with underlines\n",
      "[LightGBM] [Info] Number of positive: 4234, number of negative: 37766\n",
      "[LightGBM] [Info] Auto-choosing col-wise multi-threading, the overhead of testing was 0.000986 seconds.\n",
      "You can set `force_col_wise=true` to remove the overhead.\n",
      "[LightGBM] [Info] Total Bins 2305\n",
      "[LightGBM] [Info] Number of data points in the train set: 42000, number of used features: 11\n",
      "[LightGBM] [Warning] early_stopping_round is set=10, early_stopping_rounds=10 will be ignored. Current value: early_stopping_round=10\n",
      "[LightGBM] [Warning] Found whitespace in feature_names, replace with underlines\n",
      "[LightGBM] [Info] [binary:BoostFromScore]: pavg=0.100810 -> initscore=-2.188262\n",
      "[LightGBM] [Info] Start training from score -2.188262\n",
      "Training until validation scores don't improve for 10 rounds\n",
      "Early stopping, best iteration is:\n",
      "[406]\ttraining's binary_logloss: 0.20314\tvalid_1's binary_logloss: 0.258792\n"
     ]
    },
    {
     "name": "stderr",
     "output_type": "stream",
     "text": [
      "c:\\Users\\Pedro\\Documentos\\pruebatfg\\myenvprueba\\lib\\site-packages\\lightgbm\\engine.py:204: UserWarning: Found `num_iterations` in params. Will use it instead of argument\n",
      "  _log_warning(f\"Found `{alias}` in params. Will use it instead of argument\")\n"
     ]
    },
    {
     "name": "stdout",
     "output_type": "stream",
     "text": [
      "[LightGBM] [Warning] early_stopping_round is set=10, early_stopping_rounds=10 will be ignored. Current value: early_stopping_round=10\n",
      "[LightGBM] [Warning] Found whitespace in feature_names, replace with underlines\n",
      "[LightGBM] [Info] Number of positive: 140119, number of negative: 1259881\n",
      "[LightGBM] [Info] Auto-choosing col-wise multi-threading, the overhead of testing was 0.031833 seconds.\n",
      "You can set `force_col_wise=true` to remove the overhead.\n",
      "[LightGBM] [Info] Total Bins 2305\n",
      "[LightGBM] [Info] Number of data points in the train set: 1400000, number of used features: 11\n",
      "[LightGBM] [Warning] early_stopping_round is set=10, early_stopping_rounds=10 will be ignored. Current value: early_stopping_round=10\n",
      "[LightGBM] [Warning] Found whitespace in feature_names, replace with underlines\n",
      "[LightGBM] [Info] [binary:BoostFromScore]: pavg=0.100085 -> initscore=-2.196280\n",
      "[LightGBM] [Info] Start training from score -2.196280\n",
      "Training until validation scores don't improve for 10 rounds\n",
      "Early stopping, best iteration is:\n",
      "[2383]\ttraining's binary_logloss: 0.24283\tvalid_1's binary_logloss: 0.254694\n"
     ]
    },
    {
     "name": "stderr",
     "output_type": "stream",
     "text": [
      "c:\\Users\\Pedro\\Documentos\\pruebatfg\\myenvprueba\\lib\\site-packages\\lightgbm\\engine.py:204: UserWarning: Found `num_iterations` in params. Will use it instead of argument\n",
      "  _log_warning(f\"Found `{alias}` in params. Will use it instead of argument\")\n"
     ]
    },
    {
     "name": "stdout",
     "output_type": "stream",
     "text": [
      "[LightGBM] [Warning] early_stopping_round is set=10, early_stopping_rounds=10 will be ignored. Current value: early_stopping_round=10\n",
      "[LightGBM] [Warning] Found whitespace in feature_names, replace with underlines\n",
      "[LightGBM] [Info] Number of positive: 140128, number of negative: 1259872\n",
      "[LightGBM] [Info] Auto-choosing col-wise multi-threading, the overhead of testing was 0.031349 seconds.\n",
      "You can set `force_col_wise=true` to remove the overhead.\n",
      "[LightGBM] [Info] Total Bins 2306\n",
      "[LightGBM] [Info] Number of data points in the train set: 1400000, number of used features: 11\n",
      "[LightGBM] [Warning] early_stopping_round is set=10, early_stopping_rounds=10 will be ignored. Current value: early_stopping_round=10\n",
      "[LightGBM] [Warning] Found whitespace in feature_names, replace with underlines\n",
      "[LightGBM] [Info] [binary:BoostFromScore]: pavg=0.100091 -> initscore=-2.196209\n",
      "[LightGBM] [Info] Start training from score -2.196209\n",
      "Training until validation scores don't improve for 10 rounds\n",
      "Early stopping, best iteration is:\n",
      "[1725]\ttraining's binary_logloss: 0.258851\tvalid_1's binary_logloss: 0.267172\n"
     ]
    },
    {
     "name": "stderr",
     "output_type": "stream",
     "text": [
      "c:\\Users\\Pedro\\Documentos\\pruebatfg\\myenvprueba\\lib\\site-packages\\lightgbm\\engine.py:204: UserWarning: Found `num_iterations` in params. Will use it instead of argument\n",
      "  _log_warning(f\"Found `{alias}` in params. Will use it instead of argument\")\n"
     ]
    },
    {
     "name": "stdout",
     "output_type": "stream",
     "text": [
      "[LightGBM] [Warning] early_stopping_round is set=10, early_stopping_rounds=10 will be ignored. Current value: early_stopping_round=10\n",
      "[LightGBM] [Warning] Found whitespace in feature_names, replace with underlines\n",
      "[LightGBM] [Info] Number of positive: 140097, number of negative: 1259903\n",
      "[LightGBM] [Info] Auto-choosing col-wise multi-threading, the overhead of testing was 0.030301 seconds.\n",
      "You can set `force_col_wise=true` to remove the overhead.\n",
      "[LightGBM] [Info] Total Bins 2305\n",
      "[LightGBM] [Info] Number of data points in the train set: 1400000, number of used features: 11\n",
      "[LightGBM] [Warning] early_stopping_round is set=10, early_stopping_rounds=10 will be ignored. Current value: early_stopping_round=10\n",
      "[LightGBM] [Warning] Found whitespace in feature_names, replace with underlines\n",
      "[LightGBM] [Info] [binary:BoostFromScore]: pavg=0.100069 -> initscore=-2.196455\n",
      "[LightGBM] [Info] Start training from score -2.196455\n",
      "Training until validation scores don't improve for 10 rounds\n",
      "Early stopping, best iteration is:\n",
      "[1546]\ttraining's binary_logloss: 0.280502\tvalid_1's binary_logloss: 0.288145\n"
     ]
    },
    {
     "name": "stderr",
     "output_type": "stream",
     "text": [
      "c:\\Users\\Pedro\\Documentos\\pruebatfg\\myenvprueba\\lib\\site-packages\\lightgbm\\engine.py:204: UserWarning: Found `num_iterations` in params. Will use it instead of argument\n",
      "  _log_warning(f\"Found `{alias}` in params. Will use it instead of argument\")\n"
     ]
    },
    {
     "name": "stdout",
     "output_type": "stream",
     "text": [
      "[LightGBM] [Warning] early_stopping_round is set=10, early_stopping_rounds=10 will be ignored. Current value: early_stopping_round=10\n",
      "[LightGBM] [Warning] Found whitespace in feature_names, replace with underlines\n",
      "[LightGBM] [Info] Number of positive: 140115, number of negative: 1259885\n",
      "[LightGBM] [Info] Auto-choosing col-wise multi-threading, the overhead of testing was 0.028570 seconds.\n",
      "You can set `force_col_wise=true` to remove the overhead.\n",
      "[LightGBM] [Info] Total Bins 2304\n",
      "[LightGBM] [Info] Number of data points in the train set: 1400000, number of used features: 11\n",
      "[LightGBM] [Warning] early_stopping_round is set=10, early_stopping_rounds=10 will be ignored. Current value: early_stopping_round=10\n",
      "[LightGBM] [Warning] Found whitespace in feature_names, replace with underlines\n",
      "[LightGBM] [Info] [binary:BoostFromScore]: pavg=0.100082 -> initscore=-2.196312\n",
      "[LightGBM] [Info] Start training from score -2.196312\n",
      "Training until validation scores don't improve for 10 rounds\n",
      "Early stopping, best iteration is:\n",
      "[723]\ttraining's binary_logloss: 0.309191\tvalid_1's binary_logloss: 0.31292\n"
     ]
    },
    {
     "data": {
      "text/plain": [
       "([0.91495,\n",
       "  0.9122777777777777,\n",
       "  0.9111533333333334,\n",
       "  0.908095,\n",
       "  0.9034833333333333,\n",
       "  0.900395],\n",
       " [0.6266326880740732,\n",
       "  0.5897841254551394,\n",
       "  0.5950115028085902,\n",
       "  0.5705903378676136,\n",
       "  0.5340524729333177,\n",
       "  0.5031788887870942],\n",
       " [0.3852547885796892,\n",
       "  0.29665924276169264,\n",
       "  0.3100538413750259,\n",
       "  0.24437836578648067,\n",
       "  0.1303499023877459,\n",
       "  0.01363283764379673])"
      ]
     },
     "execution_count": 31,
     "metadata": {},
     "output_type": "execute_result"
    }
   ],
   "source": [
    "Fa_list=[100,85,75,60,40,20]\n",
    "plot_score_Fa_depend(Fa_list,0.1,gb_model)"
   ]
  },
  {
   "cell_type": "code",
   "execution_count": 40,
   "metadata": {},
   "outputs": [
    {
     "name": "stderr",
     "output_type": "stream",
     "text": [
      "C:\\Users\\Pedro\\AppData\\Local\\Temp\\ipykernel_8296\\1590880250.py:24: UserWarning: FigureCanvasAgg is non-interactive, and thus cannot be shown\n",
      "  plt.show()\n"
     ]
    }
   ],
   "source": [
    "fa_list=[100,85,75,60,40,20]\n",
    "accuracy_list=[0.91495,\n",
    "  0.9122777777777777,\n",
    "  0.9111533333333334,\n",
    "  0.908095,\n",
    "  0.9034833333333333,\n",
    "  0.900395]\n",
    "auc_list=[0.6266326880740732,\n",
    "  0.5897841254551394,\n",
    "  0.5950115028085902,\n",
    "  0.5705903378676136,\n",
    "  0.5340524729333177,\n",
    "  0.5031788887870942]\n",
    "f1_list=[0.3852547885796892,\n",
    "  0.29665924276169264,\n",
    "  0.3100538413750259,\n",
    "  0.24437836578648067,\n",
    "  0.1303499023877459,\n",
    "  0.01363283764379673]\n",
    "plt.scatter(fa_list,accuracy_list)\n",
    "plt.scatter(fa_list,auc_list)\n",
    "plt.scatter(fa_list,f1_list)\n",
    "plt.legend(['Accuracy','ROC AUC score', 'F1 score'])\n",
    "plt.show()\n"
   ]
  },
  {
   "cell_type": "code",
   "execution_count": 9,
   "metadata": {},
   "outputs": [
    {
     "data": {
      "text/plain": [
       "(0.908095, 0.5705903378676136, 0.24437836578648067)"
      ]
     },
     "execution_count": 9,
     "metadata": {},
     "output_type": "execute_result"
    }
   ],
   "source": [
    "score(df_test_y,pred_test)"
   ]
  },
  {
   "cell_type": "code",
   "execution_count": null,
   "metadata": {},
   "outputs": [],
   "source": [
    "Fa=[100,85,75,60,40,20]\n",
    "accuracy=[0.9045471428571429,0.900395]\n",
    "auc_score=[0.5378830396854314,0.5031788887870942]\n",
    "f1_score0=[0.95,0.95,0.95]\n",
    "f1_score1=[0.24,0.13,0.01 ]\n",
    "\n"
   ]
  },
  {
   "cell_type": "code",
   "execution_count": 53,
   "metadata": {},
   "outputs": [
    {
     "name": "stdout",
     "output_type": "stream",
     "text": [
      "The accuracy on the test set is 0.908095 and the AUC is 0.5705903378676136\n"
     ]
    }
   ],
   "source": [
    "pred_test=model.predict(df_test_x)\n",
    "print(f'The accuracy on the test set is {accuracy_score(df_test_y,pred_test)} and the AUC is {roc_auc_score(df_test_y,pred_test)}')"
   ]
  },
  {
   "cell_type": "code",
   "execution_count": 19,
   "metadata": {},
   "outputs": [
    {
     "name": "stdout",
     "output_type": "stream",
     "text": [
      "0.9001916666666666\n",
      "0.5\n"
     ]
    }
   ],
   "source": [
    "pred_base=np.zeros_like(pred_test)\n",
    "print(accuracy_score(df_test_y,pred_base))\n",
    "print(roc_auc_score(df_test_y,pred_base))"
   ]
  },
  {
   "cell_type": "code",
   "execution_count": null,
   "metadata": {},
   "outputs": [],
   "source": [
    "from sklearn.ensemble import RandomForestClassifier\n",
    "rforestmodel=RandomForestClassifier(n_jobs=-1)\n",
    "rforestmodel.fit(df_train_x,df_train_y)\n",
    "pred_test=rforestmodel.predict(df_test_x)"
   ]
  },
  {
   "cell_type": "code",
   "execution_count": 23,
   "metadata": {},
   "outputs": [
    {
     "name": "stdout",
     "output_type": "stream",
     "text": [
      "0.9002816666666666\n",
      "0.504177515095089\n"
     ]
    }
   ],
   "source": [
    "print(accuracy_score(df_test_y,pred_test))\n",
    "print(roc_auc_score(df_test_y,pred_test))"
   ]
  },
  {
   "cell_type": "code",
   "execution_count": 39,
   "metadata": {},
   "outputs": [
    {
     "name": "stderr",
     "output_type": "stream",
     "text": [
      "C:\\Users\\Pedro\\AppData\\Local\\Temp\\ipykernel_12060\\3059332063.py:3: UserWarning: Dataset has 0 variance; skipping density estimate. Pass `warn_singular=False` to disable this warning.\n",
      "  sns.kdeplot(data[data['activity'] == 0][col], label=\"Pasivas\", fill=True)\n",
      "C:\\Users\\Pedro\\AppData\\Local\\Temp\\ipykernel_12060\\3059332063.py:4: UserWarning: Dataset has 0 variance; skipping density estimate. Pass `warn_singular=False` to disable this warning.\n",
      "  sns.kdeplot(data[data['activity'] == 1][col], label=\"Activas\", fill=True)\n",
      "C:\\Users\\Pedro\\AppData\\Local\\Temp\\ipykernel_12060\\3059332063.py:6: UserWarning: No artists with labels found to put in legend.  Note that artists whose label start with an underscore are ignored when legend() is called with no argument.\n",
      "  plt.legend()\n"
     ]
    }
   ],
   "source": [
    "import seaborn as sns\n",
    "for col in data.columns:\n",
    "    sns.kdeplot(data[data['activity'] == 0][col], label=\"Pasivas\", fill=True)\n",
    "    sns.kdeplot(data[data['activity'] == 1][col], label=\"Activas\", fill=True)\n",
    "    plt.title(col)\n",
    "    plt.legend()\n",
    "    plt.savefig(f\"{col}_distribution.png\")  # Guarda la imagen\n",
    "    plt.close()  # Cierra la figura para liberar memoria"
   ]
  },
  {
   "cell_type": "code",
   "execution_count": 53,
   "metadata": {},
   "outputs": [],
   "source": [
    "import joblib\n",
    "density=0.1\n",
    "fa=100\n",
    "model,features,target,df_test_y,df_test_x=joblib.load(f\"phia{density}/gb-model-{density}-Fa{fa}.pkl\")"
   ]
  },
  {
   "cell_type": "code",
   "execution_count": 54,
   "metadata": {},
   "outputs": [],
   "source": [
    "pred=model.predict(df_test_x)"
   ]
  },
  {
   "cell_type": "code",
   "execution_count": 55,
   "metadata": {},
   "outputs": [
    {
     "data": {
      "text/plain": [
       "0.91495"
      ]
     },
     "execution_count": 55,
     "metadata": {},
     "output_type": "execute_result"
    }
   ],
   "source": [
    "accuracy_score(df_test_y,pred)"
   ]
  },
  {
   "cell_type": "code",
   "execution_count": 56,
   "metadata": {},
   "outputs": [
    {
     "data": {
      "text/plain": [
       "0.6266326880740732"
      ]
     },
     "execution_count": 56,
     "metadata": {},
     "output_type": "execute_result"
    }
   ],
   "source": [
    "roc_auc_score(df_test_y,pred)"
   ]
  }
 ],
 "metadata": {
  "kernelspec": {
   "display_name": "Python 3",
   "language": "python",
   "name": "python3"
  },
  "language_info": {
   "codemirror_mode": {
    "name": "ipython",
    "version": 3
   },
   "file_extension": ".py",
   "mimetype": "text/x-python",
   "name": "python",
   "nbconvert_exporter": "python",
   "pygments_lexer": "ipython3",
   "version": "3.10.5"
  }
 },
 "nbformat": 4,
 "nbformat_minor": 2
}
