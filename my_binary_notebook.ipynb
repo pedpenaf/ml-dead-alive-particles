{
 "cells": [
  {
   "cell_type": "code",
   "execution_count": 2,
   "metadata": {},
   "outputs": [],
   "source": [
    "import sys\n",
    "import pandas as pd\n",
    "import numpy as np\n",
    "from sklearn.model_selection import train_test_split\n",
    "import time\n",
    "from sklearn.neural_network import MLPClassifier\n",
    "from sklearn.metrics import f1_score,accuracy_score,roc_auc_score\n",
    "from sklearn.model_selection import GridSearchCV\n",
    "from sklearn.metrics import classification_report\n",
    "import os\n",
    "import matplotlib.pyplot as plt\n",
    "import matplotlib.pylab as pl\n",
    "#import matplotlib\n",
    "# matplotlib.use('Agg')\n",
    "import lightgbm as lgb\n",
    "from sklearn import metrics\n",
    "from numpy.ma import MaskedArray\n",
    "import sklearn.utils.fixes\n",
    "sklearn.utils.fixes.MaskedArray = MaskedArray\n",
    "from sklearn.model_selection import train_test_split\n",
    "#from sklearn.metrics import plot_confusion_matrix\n",
    "import shap"
   ]
  },
  {
   "cell_type": "code",
   "execution_count": 3,
   "metadata": {},
   "outputs": [
    {
     "name": "stdout",
     "output_type": "stream",
     "text": [
      "Start loading data file \n",
      "------------ BEGIN TRAIN DATAFRAME COLUMNS ------------------\n",
      "Index(['area', 'perimeter', 'neighbours', 'max neighbour distance',\n",
      "       'min neighbour distance', 'max vertices distance',\n",
      "       'min vertices distance', 'max vertices-point distance',\n",
      "       'min vertices-point distance', 'distance to center', 'activity',\n",
      "       'particle type'],\n",
      "      dtype='object')\n",
      "------------- END TRAIN DATAFRAME COLUMNS -------------------\n"
     ]
    }
   ],
   "source": [
    "# **************** Loading the data\n",
    "# For the example I am usign a table in csv format, but if your data are larger you can use other formats compatible with pandas, like .pickle\n",
    "print(\"Start loading data file \")\n",
    "\n",
    "cols_names=['area', 'perimeter', 'neighbours', 'max neighbour distance',\n",
    "       'min neighbour distance', 'max vertices distance',\n",
    "       'min vertices distance', 'max vertices-point distance',\n",
    "       'min vertices-point distance', 'distance to center', 'activity',\n",
    "       'particle type']\n",
    "input_file='phia0.008/particles-features-0.008-Fa100.txt'\n",
    "data = pd.read_csv(input_file, delimiter=' ',names=cols_names)\n",
    "\n",
    "#print(data)\n",
    "\n",
    "\n",
    "# *** Split the available data in training and test\n",
    "# the model will be trained only using the training data\n",
    "# so we can evaluate the performance on a different (test) set, that is new for the ML model\n",
    "df_train, df_test = train_test_split(data, random_state=50, test_size=0.3)\n",
    "\n",
    "print('------------ BEGIN TRAIN DATAFRAME COLUMNS ------------------')\n",
    "print(df_train.columns)\n",
    "print('------------- END TRAIN DATAFRAME COLUMNS -------------------')\n"
   ]
  },
  {
   "cell_type": "code",
   "execution_count": 4,
   "metadata": {},
   "outputs": [
    {
     "data": {
      "text/html": [
       "<div>\n",
       "<style scoped>\n",
       "    .dataframe tbody tr th:only-of-type {\n",
       "        vertical-align: middle;\n",
       "    }\n",
       "\n",
       "    .dataframe tbody tr th {\n",
       "        vertical-align: top;\n",
       "    }\n",
       "\n",
       "    .dataframe thead th {\n",
       "        text-align: right;\n",
       "    }\n",
       "</style>\n",
       "<table border=\"1\" class=\"dataframe\">\n",
       "  <thead>\n",
       "    <tr style=\"text-align: right;\">\n",
       "      <th></th>\n",
       "      <th>area</th>\n",
       "      <th>perimeter</th>\n",
       "      <th>neighbours</th>\n",
       "      <th>max neighbour distance</th>\n",
       "      <th>min neighbour distance</th>\n",
       "      <th>max vertices distance</th>\n",
       "      <th>min vertices distance</th>\n",
       "      <th>max vertices-point distance</th>\n",
       "      <th>min vertices-point distance</th>\n",
       "      <th>distance to center</th>\n",
       "      <th>activity</th>\n",
       "      <th>particle type</th>\n",
       "    </tr>\n",
       "  </thead>\n",
       "  <tbody>\n",
       "    <tr>\n",
       "      <th>635067</th>\n",
       "      <td>0.977742</td>\n",
       "      <td>3.832247</td>\n",
       "      <td>7.0</td>\n",
       "      <td>1.449877</td>\n",
       "      <td>0.880275</td>\n",
       "      <td>1.408771</td>\n",
       "      <td>0.040352</td>\n",
       "      <td>0.845830</td>\n",
       "      <td>0.571355</td>\n",
       "      <td>0.100055</td>\n",
       "      <td>0.0</td>\n",
       "      <td>1.0</td>\n",
       "    </tr>\n",
       "    <tr>\n",
       "      <th>1849450</th>\n",
       "      <td>0.749528</td>\n",
       "      <td>3.276766</td>\n",
       "      <td>6.0</td>\n",
       "      <td>1.094573</td>\n",
       "      <td>0.849383</td>\n",
       "      <td>1.138104</td>\n",
       "      <td>0.233037</td>\n",
       "      <td>0.585245</td>\n",
       "      <td>0.522779</td>\n",
       "      <td>0.017521</td>\n",
       "      <td>0.0</td>\n",
       "      <td>1.0</td>\n",
       "    </tr>\n",
       "    <tr>\n",
       "      <th>1512226</th>\n",
       "      <td>0.996593</td>\n",
       "      <td>3.723643</td>\n",
       "      <td>6.0</td>\n",
       "      <td>1.144342</td>\n",
       "      <td>0.947549</td>\n",
       "      <td>1.280209</td>\n",
       "      <td>0.541567</td>\n",
       "      <td>0.677112</td>\n",
       "      <td>0.569691</td>\n",
       "      <td>0.049105</td>\n",
       "      <td>0.0</td>\n",
       "      <td>1.0</td>\n",
       "    </tr>\n",
       "    <tr>\n",
       "      <th>904884</th>\n",
       "      <td>0.802232</td>\n",
       "      <td>3.522146</td>\n",
       "      <td>5.0</td>\n",
       "      <td>1.279998</td>\n",
       "      <td>0.815734</td>\n",
       "      <td>1.226991</td>\n",
       "      <td>0.261166</td>\n",
       "      <td>0.678416</td>\n",
       "      <td>0.587107</td>\n",
       "      <td>0.040817</td>\n",
       "      <td>0.0</td>\n",
       "      <td>0.0</td>\n",
       "    </tr>\n",
       "    <tr>\n",
       "      <th>161732</th>\n",
       "      <td>0.837371</td>\n",
       "      <td>3.547790</td>\n",
       "      <td>6.0</td>\n",
       "      <td>1.345188</td>\n",
       "      <td>0.860996</td>\n",
       "      <td>1.205928</td>\n",
       "      <td>0.077120</td>\n",
       "      <td>0.675900</td>\n",
       "      <td>0.564761</td>\n",
       "      <td>0.018807</td>\n",
       "      <td>0.0</td>\n",
       "      <td>0.0</td>\n",
       "    </tr>\n",
       "    <tr>\n",
       "      <th>...</th>\n",
       "      <td>...</td>\n",
       "      <td>...</td>\n",
       "      <td>...</td>\n",
       "      <td>...</td>\n",
       "      <td>...</td>\n",
       "      <td>...</td>\n",
       "      <td>...</td>\n",
       "      <td>...</td>\n",
       "      <td>...</td>\n",
       "      <td>...</td>\n",
       "      <td>...</td>\n",
       "      <td>...</td>\n",
       "    </tr>\n",
       "    <tr>\n",
       "      <th>441633</th>\n",
       "      <td>0.974029</td>\n",
       "      <td>3.678815</td>\n",
       "      <td>7.0</td>\n",
       "      <td>1.306069</td>\n",
       "      <td>0.931266</td>\n",
       "      <td>1.264240</td>\n",
       "      <td>0.256104</td>\n",
       "      <td>0.669292</td>\n",
       "      <td>0.587555</td>\n",
       "      <td>0.025513</td>\n",
       "      <td>0.0</td>\n",
       "      <td>1.0</td>\n",
       "    </tr>\n",
       "    <tr>\n",
       "      <th>677997</th>\n",
       "      <td>0.768882</td>\n",
       "      <td>3.434675</td>\n",
       "      <td>6.0</td>\n",
       "      <td>1.348568</td>\n",
       "      <td>0.838477</td>\n",
       "      <td>1.300976</td>\n",
       "      <td>0.105609</td>\n",
       "      <td>0.681036</td>\n",
       "      <td>0.514857</td>\n",
       "      <td>0.014131</td>\n",
       "      <td>0.0</td>\n",
       "      <td>0.0</td>\n",
       "    </tr>\n",
       "    <tr>\n",
       "      <th>239499</th>\n",
       "      <td>0.904758</td>\n",
       "      <td>3.597652</td>\n",
       "      <td>6.0</td>\n",
       "      <td>1.124997</td>\n",
       "      <td>0.853729</td>\n",
       "      <td>1.237184</td>\n",
       "      <td>0.385344</td>\n",
       "      <td>0.654743</td>\n",
       "      <td>0.549728</td>\n",
       "      <td>0.020995</td>\n",
       "      <td>0.0</td>\n",
       "      <td>1.0</td>\n",
       "    </tr>\n",
       "    <tr>\n",
       "      <th>1152480</th>\n",
       "      <td>0.895759</td>\n",
       "      <td>3.527407</td>\n",
       "      <td>6.0</td>\n",
       "      <td>1.117670</td>\n",
       "      <td>0.866680</td>\n",
       "      <td>1.188579</td>\n",
       "      <td>0.519463</td>\n",
       "      <td>0.652062</td>\n",
       "      <td>0.526002</td>\n",
       "      <td>0.058111</td>\n",
       "      <td>0.0</td>\n",
       "      <td>1.0</td>\n",
       "    </tr>\n",
       "    <tr>\n",
       "      <th>1980080</th>\n",
       "      <td>0.830478</td>\n",
       "      <td>3.422556</td>\n",
       "      <td>6.0</td>\n",
       "      <td>1.102062</td>\n",
       "      <td>0.887152</td>\n",
       "      <td>1.230030</td>\n",
       "      <td>0.524031</td>\n",
       "      <td>0.666052</td>\n",
       "      <td>0.517433</td>\n",
       "      <td>0.027671</td>\n",
       "      <td>0.0</td>\n",
       "      <td>1.0</td>\n",
       "    </tr>\n",
       "  </tbody>\n",
       "</table>\n",
       "<p>1400000 rows × 12 columns</p>\n",
       "</div>"
      ],
      "text/plain": [
       "             area  perimeter  neighbours  max neighbour distance  \\\n",
       "635067   0.977742   3.832247         7.0                1.449877   \n",
       "1849450  0.749528   3.276766         6.0                1.094573   \n",
       "1512226  0.996593   3.723643         6.0                1.144342   \n",
       "904884   0.802232   3.522146         5.0                1.279998   \n",
       "161732   0.837371   3.547790         6.0                1.345188   \n",
       "...           ...        ...         ...                     ...   \n",
       "441633   0.974029   3.678815         7.0                1.306069   \n",
       "677997   0.768882   3.434675         6.0                1.348568   \n",
       "239499   0.904758   3.597652         6.0                1.124997   \n",
       "1152480  0.895759   3.527407         6.0                1.117670   \n",
       "1980080  0.830478   3.422556         6.0                1.102062   \n",
       "\n",
       "         min neighbour distance  max vertices distance  min vertices distance  \\\n",
       "635067                 0.880275               1.408771               0.040352   \n",
       "1849450                0.849383               1.138104               0.233037   \n",
       "1512226                0.947549               1.280209               0.541567   \n",
       "904884                 0.815734               1.226991               0.261166   \n",
       "161732                 0.860996               1.205928               0.077120   \n",
       "...                         ...                    ...                    ...   \n",
       "441633                 0.931266               1.264240               0.256104   \n",
       "677997                 0.838477               1.300976               0.105609   \n",
       "239499                 0.853729               1.237184               0.385344   \n",
       "1152480                0.866680               1.188579               0.519463   \n",
       "1980080                0.887152               1.230030               0.524031   \n",
       "\n",
       "         max vertices-point distance  min vertices-point distance  \\\n",
       "635067                      0.845830                     0.571355   \n",
       "1849450                     0.585245                     0.522779   \n",
       "1512226                     0.677112                     0.569691   \n",
       "904884                      0.678416                     0.587107   \n",
       "161732                      0.675900                     0.564761   \n",
       "...                              ...                          ...   \n",
       "441633                      0.669292                     0.587555   \n",
       "677997                      0.681036                     0.514857   \n",
       "239499                      0.654743                     0.549728   \n",
       "1152480                     0.652062                     0.526002   \n",
       "1980080                     0.666052                     0.517433   \n",
       "\n",
       "         distance to center  activity  particle type  \n",
       "635067             0.100055       0.0            1.0  \n",
       "1849450            0.017521       0.0            1.0  \n",
       "1512226            0.049105       0.0            1.0  \n",
       "904884             0.040817       0.0            0.0  \n",
       "161732             0.018807       0.0            0.0  \n",
       "...                     ...       ...            ...  \n",
       "441633             0.025513       0.0            1.0  \n",
       "677997             0.014131       0.0            0.0  \n",
       "239499             0.020995       0.0            1.0  \n",
       "1152480            0.058111       0.0            1.0  \n",
       "1980080            0.027671       0.0            1.0  \n",
       "\n",
       "[1400000 rows x 12 columns]"
      ]
     },
     "execution_count": 4,
     "metadata": {},
     "output_type": "execute_result"
    }
   ],
   "source": [
    "df_train"
   ]
  },
  {
   "cell_type": "code",
   "execution_count": 5,
   "metadata": {},
   "outputs": [
    {
     "data": {
      "text/html": [
       "<div>\n",
       "<style scoped>\n",
       "    .dataframe tbody tr th:only-of-type {\n",
       "        vertical-align: middle;\n",
       "    }\n",
       "\n",
       "    .dataframe tbody tr th {\n",
       "        vertical-align: top;\n",
       "    }\n",
       "\n",
       "    .dataframe thead th {\n",
       "        text-align: right;\n",
       "    }\n",
       "</style>\n",
       "<table border=\"1\" class=\"dataframe\">\n",
       "  <thead>\n",
       "    <tr style=\"text-align: right;\">\n",
       "      <th></th>\n",
       "      <th>area</th>\n",
       "      <th>perimeter</th>\n",
       "      <th>neighbours</th>\n",
       "      <th>max neighbour distance</th>\n",
       "      <th>min neighbour distance</th>\n",
       "      <th>max vertices distance</th>\n",
       "      <th>min vertices distance</th>\n",
       "      <th>max vertices-point distance</th>\n",
       "      <th>min vertices-point distance</th>\n",
       "      <th>distance to center</th>\n",
       "      <th>activity</th>\n",
       "      <th>particle type</th>\n",
       "    </tr>\n",
       "  </thead>\n",
       "  <tbody>\n",
       "    <tr>\n",
       "      <th>614099</th>\n",
       "      <td>0.829920</td>\n",
       "      <td>3.376084</td>\n",
       "      <td>7.0</td>\n",
       "      <td>1.076869</td>\n",
       "      <td>0.863346</td>\n",
       "      <td>1.135667</td>\n",
       "      <td>0.249522</td>\n",
       "      <td>0.595228</td>\n",
       "      <td>0.525399</td>\n",
       "      <td>0.038928</td>\n",
       "      <td>0.0</td>\n",
       "      <td>1.0</td>\n",
       "    </tr>\n",
       "    <tr>\n",
       "      <th>903904</th>\n",
       "      <td>0.824920</td>\n",
       "      <td>3.506112</td>\n",
       "      <td>5.0</td>\n",
       "      <td>1.119003</td>\n",
       "      <td>0.830676</td>\n",
       "      <td>1.176758</td>\n",
       "      <td>0.427336</td>\n",
       "      <td>0.632184</td>\n",
       "      <td>0.575099</td>\n",
       "      <td>0.021185</td>\n",
       "      <td>0.0</td>\n",
       "      <td>0.0</td>\n",
       "    </tr>\n",
       "    <tr>\n",
       "      <th>23774</th>\n",
       "      <td>0.781616</td>\n",
       "      <td>3.384250</td>\n",
       "      <td>5.0</td>\n",
       "      <td>0.967782</td>\n",
       "      <td>0.879679</td>\n",
       "      <td>1.154557</td>\n",
       "      <td>0.518087</td>\n",
       "      <td>0.628662</td>\n",
       "      <td>0.547392</td>\n",
       "      <td>0.019647</td>\n",
       "      <td>0.0</td>\n",
       "      <td>0.0</td>\n",
       "    </tr>\n",
       "    <tr>\n",
       "      <th>1727994</th>\n",
       "      <td>0.700696</td>\n",
       "      <td>3.242870</td>\n",
       "      <td>5.0</td>\n",
       "      <td>0.950109</td>\n",
       "      <td>0.825179</td>\n",
       "      <td>1.188631</td>\n",
       "      <td>0.495473</td>\n",
       "      <td>0.649923</td>\n",
       "      <td>0.499858</td>\n",
       "      <td>0.009349</td>\n",
       "      <td>0.0</td>\n",
       "      <td>0.0</td>\n",
       "    </tr>\n",
       "    <tr>\n",
       "      <th>1714002</th>\n",
       "      <td>1.007947</td>\n",
       "      <td>3.899127</td>\n",
       "      <td>7.0</td>\n",
       "      <td>1.610883</td>\n",
       "      <td>0.782441</td>\n",
       "      <td>1.408481</td>\n",
       "      <td>0.034987</td>\n",
       "      <td>0.832605</td>\n",
       "      <td>0.520183</td>\n",
       "      <td>0.131171</td>\n",
       "      <td>1.0</td>\n",
       "      <td>1.0</td>\n",
       "    </tr>\n",
       "    <tr>\n",
       "      <th>...</th>\n",
       "      <td>...</td>\n",
       "      <td>...</td>\n",
       "      <td>...</td>\n",
       "      <td>...</td>\n",
       "      <td>...</td>\n",
       "      <td>...</td>\n",
       "      <td>...</td>\n",
       "      <td>...</td>\n",
       "      <td>...</td>\n",
       "      <td>...</td>\n",
       "      <td>...</td>\n",
       "      <td>...</td>\n",
       "    </tr>\n",
       "    <tr>\n",
       "      <th>1540347</th>\n",
       "      <td>0.821336</td>\n",
       "      <td>3.632881</td>\n",
       "      <td>5.0</td>\n",
       "      <td>1.069110</td>\n",
       "      <td>0.850932</td>\n",
       "      <td>1.353270</td>\n",
       "      <td>0.310918</td>\n",
       "      <td>0.819310</td>\n",
       "      <td>0.543716</td>\n",
       "      <td>0.040157</td>\n",
       "      <td>0.0</td>\n",
       "      <td>1.0</td>\n",
       "    </tr>\n",
       "    <tr>\n",
       "      <th>900741</th>\n",
       "      <td>0.875378</td>\n",
       "      <td>3.593062</td>\n",
       "      <td>6.0</td>\n",
       "      <td>1.339032</td>\n",
       "      <td>0.835114</td>\n",
       "      <td>1.358994</td>\n",
       "      <td>0.233110</td>\n",
       "      <td>0.704321</td>\n",
       "      <td>0.532444</td>\n",
       "      <td>0.040000</td>\n",
       "      <td>0.0</td>\n",
       "      <td>0.0</td>\n",
       "    </tr>\n",
       "    <tr>\n",
       "      <th>358526</th>\n",
       "      <td>0.928720</td>\n",
       "      <td>3.603827</td>\n",
       "      <td>6.0</td>\n",
       "      <td>1.131027</td>\n",
       "      <td>0.944998</td>\n",
       "      <td>1.214137</td>\n",
       "      <td>0.463387</td>\n",
       "      <td>0.615884</td>\n",
       "      <td>0.588194</td>\n",
       "      <td>0.003939</td>\n",
       "      <td>0.0</td>\n",
       "      <td>1.0</td>\n",
       "    </tr>\n",
       "    <tr>\n",
       "      <th>1491630</th>\n",
       "      <td>0.831327</td>\n",
       "      <td>3.429905</td>\n",
       "      <td>6.0</td>\n",
       "      <td>1.113248</td>\n",
       "      <td>0.834589</td>\n",
       "      <td>1.177302</td>\n",
       "      <td>0.398658</td>\n",
       "      <td>0.645402</td>\n",
       "      <td>0.498776</td>\n",
       "      <td>0.055017</td>\n",
       "      <td>0.0</td>\n",
       "      <td>1.0</td>\n",
       "    </tr>\n",
       "    <tr>\n",
       "      <th>1921808</th>\n",
       "      <td>0.785749</td>\n",
       "      <td>3.520731</td>\n",
       "      <td>6.0</td>\n",
       "      <td>1.295352</td>\n",
       "      <td>0.812227</td>\n",
       "      <td>1.239091</td>\n",
       "      <td>0.051486</td>\n",
       "      <td>0.664613</td>\n",
       "      <td>0.544267</td>\n",
       "      <td>0.021600</td>\n",
       "      <td>0.0</td>\n",
       "      <td>0.0</td>\n",
       "    </tr>\n",
       "  </tbody>\n",
       "</table>\n",
       "<p>600000 rows × 12 columns</p>\n",
       "</div>"
      ],
      "text/plain": [
       "             area  perimeter  neighbours  max neighbour distance  \\\n",
       "614099   0.829920   3.376084         7.0                1.076869   \n",
       "903904   0.824920   3.506112         5.0                1.119003   \n",
       "23774    0.781616   3.384250         5.0                0.967782   \n",
       "1727994  0.700696   3.242870         5.0                0.950109   \n",
       "1714002  1.007947   3.899127         7.0                1.610883   \n",
       "...           ...        ...         ...                     ...   \n",
       "1540347  0.821336   3.632881         5.0                1.069110   \n",
       "900741   0.875378   3.593062         6.0                1.339032   \n",
       "358526   0.928720   3.603827         6.0                1.131027   \n",
       "1491630  0.831327   3.429905         6.0                1.113248   \n",
       "1921808  0.785749   3.520731         6.0                1.295352   \n",
       "\n",
       "         min neighbour distance  max vertices distance  min vertices distance  \\\n",
       "614099                 0.863346               1.135667               0.249522   \n",
       "903904                 0.830676               1.176758               0.427336   \n",
       "23774                  0.879679               1.154557               0.518087   \n",
       "1727994                0.825179               1.188631               0.495473   \n",
       "1714002                0.782441               1.408481               0.034987   \n",
       "...                         ...                    ...                    ...   \n",
       "1540347                0.850932               1.353270               0.310918   \n",
       "900741                 0.835114               1.358994               0.233110   \n",
       "358526                 0.944998               1.214137               0.463387   \n",
       "1491630                0.834589               1.177302               0.398658   \n",
       "1921808                0.812227               1.239091               0.051486   \n",
       "\n",
       "         max vertices-point distance  min vertices-point distance  \\\n",
       "614099                      0.595228                     0.525399   \n",
       "903904                      0.632184                     0.575099   \n",
       "23774                       0.628662                     0.547392   \n",
       "1727994                     0.649923                     0.499858   \n",
       "1714002                     0.832605                     0.520183   \n",
       "...                              ...                          ...   \n",
       "1540347                     0.819310                     0.543716   \n",
       "900741                      0.704321                     0.532444   \n",
       "358526                      0.615884                     0.588194   \n",
       "1491630                     0.645402                     0.498776   \n",
       "1921808                     0.664613                     0.544267   \n",
       "\n",
       "         distance to center  activity  particle type  \n",
       "614099             0.038928       0.0            1.0  \n",
       "903904             0.021185       0.0            0.0  \n",
       "23774              0.019647       0.0            0.0  \n",
       "1727994            0.009349       0.0            0.0  \n",
       "1714002            0.131171       1.0            1.0  \n",
       "...                     ...       ...            ...  \n",
       "1540347            0.040157       0.0            1.0  \n",
       "900741             0.040000       0.0            0.0  \n",
       "358526             0.003939       0.0            1.0  \n",
       "1491630            0.055017       0.0            1.0  \n",
       "1921808            0.021600       0.0            0.0  \n",
       "\n",
       "[600000 rows x 12 columns]"
      ]
     },
     "execution_count": 5,
     "metadata": {},
     "output_type": "execute_result"
    }
   ],
   "source": [
    "df_test"
   ]
  },
  {
   "cell_type": "code",
   "execution_count": 6,
   "metadata": {},
   "outputs": [
    {
     "name": "stdout",
     "output_type": "stream",
     "text": [
      "create x/y dataframes (train set)\n",
      "create x/y dataframes (test set)\n"
     ]
    }
   ],
   "source": [
    "print(\"create x/y dataframes (train set)\")\n",
    "# In this particulat proble we want to identify if a specific particle 'is_active' or not\n",
    "# so we have to do a binary classification of the column 'is_active'\n",
    "df_train_y = df_train['activity'].copy().astype('int')\n",
    "df_train.drop(columns='activity', inplace=True)\n",
    "df_train_x = df_train\n",
    "\n",
    "print(\"create x/y dataframes (test set)\")\n",
    "df_test_y = df_test['activity'].copy().astype('int')\n",
    "df_test.drop(columns='activity', inplace=True)\n",
    "df_test_x = df_test"
   ]
  },
  {
   "cell_type": "code",
   "execution_count": 7,
   "metadata": {},
   "outputs": [
    {
     "name": "stdout",
     "output_type": "stream",
     "text": [
      "\n",
      "\n",
      "*** Using a gradient boosting algorithm\n",
      "[LightGBM] [Warning] early_stopping_round is set=10, early_stopping_rounds=10 will be ignored. Current value: early_stopping_round=10\n"
     ]
    },
    {
     "name": "stderr",
     "output_type": "stream",
     "text": [
      "c:\\Users\\Pedro\\AppData\\Local\\Programs\\Python\\Python310\\lib\\site-packages\\lightgbm\\engine.py:204: UserWarning: Found `num_iterations` in params. Will use it instead of argument\n",
      "  _log_warning(f\"Found `{alias}` in params. Will use it instead of argument\")\n"
     ]
    },
    {
     "name": "stdout",
     "output_type": "stream",
     "text": [
      "[LightGBM] [Warning] Found whitespace in feature_names, replace with underlines\n",
      "[LightGBM] [Info] Number of positive: 11304, number of negative: 1388696\n",
      "[LightGBM] [Info] Auto-choosing row-wise multi-threading, the overhead of testing was 0.006143 seconds.\n",
      "You can set `force_row_wise=true` to remove the overhead.\n",
      "And if memory is not enough, you can set `force_col_wise=true`.\n",
      "[LightGBM] [Info] Total Bins 2304\n",
      "[LightGBM] [Info] Number of data points in the train set: 1400000, number of used features: 11\n",
      "[LightGBM] [Warning] early_stopping_round is set=10, early_stopping_rounds=10 will be ignored. Current value: early_stopping_round=10\n",
      "[LightGBM] [Warning] Found whitespace in feature_names, replace with underlines\n",
      "[LightGBM] [Info] [binary:BoostFromScore]: pavg=0.008074 -> initscore=-4.810964\n",
      "[LightGBM] [Info] Start training from score -4.810964\n",
      "Training until validation scores don't improve for 10 rounds\n",
      "Early stopping, best iteration is:\n",
      "[835]\ttraining's binary_logloss: 0.0170565\tvalid_1's binary_logloss: 0.022454\n",
      "\n",
      "\n",
      "***Training accuracy 0.9943\n",
      "***Testing accuracy 0.9939\n",
      "\n",
      "              precision    recall  f1-score   support\n",
      "\n",
      "           0       0.99      1.00      1.00    595304\n",
      "           1       0.74      0.34      0.46      4696\n",
      "\n",
      "    accuracy                           0.99    600000\n",
      "   macro avg       0.87      0.67      0.73    600000\n",
      "weighted avg       0.99      0.99      0.99    600000\n",
      "\n"
     ]
    }
   ],
   "source": [
    "print('\\n\\n*** Using a gradient boosting algorithm')\n",
    "# This is a more advanced algorithm that is explained here:https://lightgbm.readthedocs.io/en/latest/pythonapi/lightgbm.LGBMClassifier.html\n",
    "model = lgb.LGBMClassifier(learning_rate=0.01,num_leaves=100,max_depth=15, early_stopping_rounds=10, num_iterations=3000, random_state=42)\n",
    "\n",
    "model.fit(df_train_x,df_train_y,eval_set=[(df_train_x,df_train_y),(df_test_x,df_test_y)],\n",
    "            eval_metric='binary')\n",
    "print('\\n\\n***Training accuracy {:.4f}'.format(model.score(df_train_x,df_train_y)))\n",
    "print('***Testing accuracy {:.4f}\\n'.format(model.score(df_test_x,df_test_y)))\n",
    "\n",
    "print(metrics.classification_report(df_test_y,model.predict(df_test_x)))"
   ]
  },
  {
   "cell_type": "code",
   "execution_count": 1,
   "metadata": {},
   "outputs": [
    {
     "ename": "NameError",
     "evalue": "name 'model' is not defined",
     "output_type": "error",
     "traceback": [
      "\u001b[1;31m---------------------------------------------------------------------------\u001b[0m",
      "\u001b[1;31mNameError\u001b[0m                                 Traceback (most recent call last)",
      "Cell \u001b[1;32mIn[1], line 1\u001b[0m\n\u001b[1;32m----> 1\u001b[0m pred_test\u001b[38;5;241m=\u001b[39m\u001b[43mmodel\u001b[49m\u001b[38;5;241m.\u001b[39mpredict(df_test_x)\n",
      "\u001b[1;31mNameError\u001b[0m: name 'model' is not defined"
     ]
    }
   ],
   "source": [
    "pred_test=model.predict(df_test_x)"
   ]
  },
  {
   "cell_type": "code",
   "execution_count": 6,
   "metadata": {},
   "outputs": [
    {
     "data": {
      "text/plain": [
       "0.24437836578648067"
      ]
     },
     "execution_count": 6,
     "metadata": {},
     "output_type": "execute_result"
    }
   ],
   "source": [
    "f1_score(df_test_y,pred_test)"
   ]
  },
  {
   "cell_type": "code",
   "execution_count": 23,
   "metadata": {},
   "outputs": [],
   "source": [
    "#Returns accuracy,auc,f1_score\n",
    "def score(y,pred):\n",
    "    return accuracy_score(y,pred),roc_auc_score(y,pred),f1_score(y,pred)"
   ]
  },
  {
   "cell_type": "code",
   "execution_count": 22,
   "metadata": {},
   "outputs": [
    {
     "data": {
      "text/html": [
       "<div>\n",
       "<style scoped>\n",
       "    .dataframe tbody tr th:only-of-type {\n",
       "        vertical-align: middle;\n",
       "    }\n",
       "\n",
       "    .dataframe tbody tr th {\n",
       "        vertical-align: top;\n",
       "    }\n",
       "\n",
       "    .dataframe thead th {\n",
       "        text-align: right;\n",
       "    }\n",
       "</style>\n",
       "<table border=\"1\" class=\"dataframe\">\n",
       "  <thead>\n",
       "    <tr style=\"text-align: right;\">\n",
       "      <th></th>\n",
       "      <th>1 1 7.32901 24.9911</th>\n",
       "    </tr>\n",
       "  </thead>\n",
       "  <tbody>\n",
       "    <tr>\n",
       "      <th>0</th>\n",
       "      <td>2 1 24.2163 28.0885</td>\n",
       "    </tr>\n",
       "    <tr>\n",
       "      <th>1</th>\n",
       "      <td>3 1 24.8592 2.49579</td>\n",
       "    </tr>\n",
       "    <tr>\n",
       "      <th>2</th>\n",
       "      <td>4 1 16.2195 8.41785</td>\n",
       "    </tr>\n",
       "    <tr>\n",
       "      <th>3</th>\n",
       "      <td>5 1 10.2535 24.3277</td>\n",
       "    </tr>\n",
       "    <tr>\n",
       "      <th>4</th>\n",
       "      <td>6 1 19.2187 23.6963</td>\n",
       "    </tr>\n",
       "    <tr>\n",
       "      <th>...</th>\n",
       "      <td>...</td>\n",
       "    </tr>\n",
       "    <tr>\n",
       "      <th>2000994</th>\n",
       "      <td>996 4 26.0632 4.15549</td>\n",
       "    </tr>\n",
       "    <tr>\n",
       "      <th>2000995</th>\n",
       "      <td>997 4 23.9477 22.5588</td>\n",
       "    </tr>\n",
       "    <tr>\n",
       "      <th>2000996</th>\n",
       "      <td>998 4 25.0032 23.802</td>\n",
       "    </tr>\n",
       "    <tr>\n",
       "      <th>2000997</th>\n",
       "      <td>999 4 16.861 17.2506</td>\n",
       "    </tr>\n",
       "    <tr>\n",
       "      <th>2000998</th>\n",
       "      <td>1000 4 0.116802 8.69244</td>\n",
       "    </tr>\n",
       "  </tbody>\n",
       "</table>\n",
       "<p>2000999 rows × 1 columns</p>\n",
       "</div>"
      ],
      "text/plain": [
       "             1 1 7.32901 24.9911\n",
       "0            2 1 24.2163 28.0885\n",
       "1            3 1 24.8592 2.49579\n",
       "2            4 1 16.2195 8.41785\n",
       "3            5 1 10.2535 24.3277\n",
       "4            6 1 19.2187 23.6963\n",
       "...                          ...\n",
       "2000994    996 4 26.0632 4.15549\n",
       "2000995    997 4 23.9477 22.5588\n",
       "2000996     998 4 25.0032 23.802\n",
       "2000997     999 4 16.861 17.2506\n",
       "2000998  1000 4 0.116802 8.69244\n",
       "\n",
       "[2000999 rows x 1 columns]"
      ]
     },
     "execution_count": 22,
     "metadata": {},
     "output_type": "execute_result"
    }
   ],
   "source": [
    "df=pd.read_csv(\"phia0.1/traj_phia0.1-T05-Fa20-tau1.dat\")\n",
    "df \n"
   ]
  },
  {
   "cell_type": "code",
   "execution_count": 26,
   "metadata": {},
   "outputs": [],
   "source": [
    "def gb_model(df_train_x,df_train_y,df_test_x,df_test_y):\n",
    "    model = lgb.LGBMClassifier(learning_rate=0.01,num_leaves=100,max_depth=15, early_stopping_rounds=10, num_iterations=3000, random_state=42)\n",
    "\n",
    "    model.fit(df_train_x,df_train_y,eval_set=[(df_train_x,df_train_y),(df_test_x,df_test_y)],\n",
    "            eval_metric='binary')\n",
    "    return model"
   ]
  },
  {
   "cell_type": "code",
   "execution_count": 30,
   "metadata": {},
   "outputs": [],
   "source": [
    "def plot_score_Fa_depend(fa_list,density,model_method):\n",
    "    cols_names=['area', 'perimeter', 'neighbours', 'max neighbour distance',\n",
    "       'min neighbour distance', 'max vertices distance',\n",
    "       'min vertices distance', 'max vertices-point distance',\n",
    "       'min vertices-point distance', 'distance to center', 'activity',\n",
    "       'particle type']\n",
    "    accuracy_list=[]\n",
    "    auc_list=[]\n",
    "    f1_list=[]\n",
    "\n",
    "    for fa in fa_list:\n",
    "        input_file=f\"phia{density}/particles-features-{density}-Fa{fa}.txt\"\n",
    "        data = pd.read_csv(input_file, delimiter=' ',names=cols_names)\n",
    "\n",
    "        df_train, df_test = train_test_split(data, random_state=50, test_size=0.3)\n",
    "        df_train_y = df_train['activity'].copy().astype('int')\n",
    "        df_train.drop(columns='activity', inplace=True)\n",
    "        df_train_x = df_train\n",
    "\n",
    "        df_test_y = df_test['activity'].copy().astype('int')\n",
    "        df_test.drop(columns='activity', inplace=True)\n",
    "        df_test_x = df_test\n",
    "\n",
    "        model=model_method(df_train_x,df_train_y,df_test_x,df_test_y)\n",
    "        pred=model.predict(df_test_x)\n",
    "        accuracy,auc,f1=score(df_test_y,pred)\n",
    "        accuracy_list.append(accuracy)\n",
    "        auc_list.append(auc)\n",
    "        f1_list.append(f1)\n",
    "    \n",
    "    plt.scatter(fa_list,accuracy_list)\n",
    "    plt.scatter(fa_list,auc_list)\n",
    "    plt.scatter(fa_list,f1_list)\n",
    "    plt.legend(['Accuracy','ROC AUC score', 'F1 score'])\n",
    "    return accuracy_list,auc_list,f1_list\n",
    "        "
   ]
  },
  {
   "cell_type": "code",
   "execution_count": 31,
   "metadata": {},
   "outputs": [
    {
     "name": "stderr",
     "output_type": "stream",
     "text": [
      "c:\\Users\\Pedro\\Documentos\\pruebatfg\\myenvprueba\\lib\\site-packages\\lightgbm\\engine.py:204: UserWarning: Found `num_iterations` in params. Will use it instead of argument\n",
      "  _log_warning(f\"Found `{alias}` in params. Will use it instead of argument\")\n"
     ]
    },
    {
     "name": "stdout",
     "output_type": "stream",
     "text": [
      "[LightGBM] [Warning] early_stopping_round is set=10, early_stopping_rounds=10 will be ignored. Current value: early_stopping_round=10\n",
      "[LightGBM] [Warning] Found whitespace in feature_names, replace with underlines\n",
      "[LightGBM] [Info] Number of positive: 13991, number of negative: 126009\n",
      "[LightGBM] [Info] Auto-choosing row-wise multi-threading, the overhead of testing was 0.000643 seconds.\n",
      "You can set `force_row_wise=true` to remove the overhead.\n",
      "And if memory is not enough, you can set `force_col_wise=true`.\n",
      "[LightGBM] [Info] Total Bins 2306\n",
      "[LightGBM] [Info] Number of data points in the train set: 140000, number of used features: 11\n",
      "[LightGBM] [Warning] early_stopping_round is set=10, early_stopping_rounds=10 will be ignored. Current value: early_stopping_round=10\n",
      "[LightGBM] [Warning] Found whitespace in feature_names, replace with underlines\n",
      "[LightGBM] [Info] [binary:BoostFromScore]: pavg=0.099936 -> initscore=-2.197939\n",
      "[LightGBM] [Info] Start training from score -2.197939\n",
      "Training until validation scores don't improve for 10 rounds\n",
      "Early stopping, best iteration is:\n",
      "[626]\ttraining's binary_logloss: 0.208876\tvalid_1's binary_logloss: 0.23857\n"
     ]
    },
    {
     "name": "stderr",
     "output_type": "stream",
     "text": [
      "c:\\Users\\Pedro\\Documentos\\pruebatfg\\myenvprueba\\lib\\site-packages\\lightgbm\\engine.py:204: UserWarning: Found `num_iterations` in params. Will use it instead of argument\n",
      "  _log_warning(f\"Found `{alias}` in params. Will use it instead of argument\")\n"
     ]
    },
    {
     "name": "stdout",
     "output_type": "stream",
     "text": [
      "[LightGBM] [Warning] early_stopping_round is set=10, early_stopping_rounds=10 will be ignored. Current value: early_stopping_round=10\n",
      "[LightGBM] [Warning] Found whitespace in feature_names, replace with underlines\n",
      "[LightGBM] [Info] Number of positive: 4234, number of negative: 37766\n",
      "[LightGBM] [Info] Auto-choosing col-wise multi-threading, the overhead of testing was 0.000986 seconds.\n",
      "You can set `force_col_wise=true` to remove the overhead.\n",
      "[LightGBM] [Info] Total Bins 2305\n",
      "[LightGBM] [Info] Number of data points in the train set: 42000, number of used features: 11\n",
      "[LightGBM] [Warning] early_stopping_round is set=10, early_stopping_rounds=10 will be ignored. Current value: early_stopping_round=10\n",
      "[LightGBM] [Warning] Found whitespace in feature_names, replace with underlines\n",
      "[LightGBM] [Info] [binary:BoostFromScore]: pavg=0.100810 -> initscore=-2.188262\n",
      "[LightGBM] [Info] Start training from score -2.188262\n",
      "Training until validation scores don't improve for 10 rounds\n",
      "Early stopping, best iteration is:\n",
      "[406]\ttraining's binary_logloss: 0.20314\tvalid_1's binary_logloss: 0.258792\n"
     ]
    },
    {
     "name": "stderr",
     "output_type": "stream",
     "text": [
      "c:\\Users\\Pedro\\Documentos\\pruebatfg\\myenvprueba\\lib\\site-packages\\lightgbm\\engine.py:204: UserWarning: Found `num_iterations` in params. Will use it instead of argument\n",
      "  _log_warning(f\"Found `{alias}` in params. Will use it instead of argument\")\n"
     ]
    },
    {
     "name": "stdout",
     "output_type": "stream",
     "text": [
      "[LightGBM] [Warning] early_stopping_round is set=10, early_stopping_rounds=10 will be ignored. Current value: early_stopping_round=10\n",
      "[LightGBM] [Warning] Found whitespace in feature_names, replace with underlines\n",
      "[LightGBM] [Info] Number of positive: 140119, number of negative: 1259881\n",
      "[LightGBM] [Info] Auto-choosing col-wise multi-threading, the overhead of testing was 0.031833 seconds.\n",
      "You can set `force_col_wise=true` to remove the overhead.\n",
      "[LightGBM] [Info] Total Bins 2305\n",
      "[LightGBM] [Info] Number of data points in the train set: 1400000, number of used features: 11\n",
      "[LightGBM] [Warning] early_stopping_round is set=10, early_stopping_rounds=10 will be ignored. Current value: early_stopping_round=10\n",
      "[LightGBM] [Warning] Found whitespace in feature_names, replace with underlines\n",
      "[LightGBM] [Info] [binary:BoostFromScore]: pavg=0.100085 -> initscore=-2.196280\n",
      "[LightGBM] [Info] Start training from score -2.196280\n",
      "Training until validation scores don't improve for 10 rounds\n",
      "Early stopping, best iteration is:\n",
      "[2383]\ttraining's binary_logloss: 0.24283\tvalid_1's binary_logloss: 0.254694\n"
     ]
    },
    {
     "name": "stderr",
     "output_type": "stream",
     "text": [
      "c:\\Users\\Pedro\\Documentos\\pruebatfg\\myenvprueba\\lib\\site-packages\\lightgbm\\engine.py:204: UserWarning: Found `num_iterations` in params. Will use it instead of argument\n",
      "  _log_warning(f\"Found `{alias}` in params. Will use it instead of argument\")\n"
     ]
    },
    {
     "name": "stdout",
     "output_type": "stream",
     "text": [
      "[LightGBM] [Warning] early_stopping_round is set=10, early_stopping_rounds=10 will be ignored. Current value: early_stopping_round=10\n",
      "[LightGBM] [Warning] Found whitespace in feature_names, replace with underlines\n",
      "[LightGBM] [Info] Number of positive: 140128, number of negative: 1259872\n",
      "[LightGBM] [Info] Auto-choosing col-wise multi-threading, the overhead of testing was 0.031349 seconds.\n",
      "You can set `force_col_wise=true` to remove the overhead.\n",
      "[LightGBM] [Info] Total Bins 2306\n",
      "[LightGBM] [Info] Number of data points in the train set: 1400000, number of used features: 11\n",
      "[LightGBM] [Warning] early_stopping_round is set=10, early_stopping_rounds=10 will be ignored. Current value: early_stopping_round=10\n",
      "[LightGBM] [Warning] Found whitespace in feature_names, replace with underlines\n",
      "[LightGBM] [Info] [binary:BoostFromScore]: pavg=0.100091 -> initscore=-2.196209\n",
      "[LightGBM] [Info] Start training from score -2.196209\n",
      "Training until validation scores don't improve for 10 rounds\n",
      "Early stopping, best iteration is:\n",
      "[1725]\ttraining's binary_logloss: 0.258851\tvalid_1's binary_logloss: 0.267172\n"
     ]
    },
    {
     "name": "stderr",
     "output_type": "stream",
     "text": [
      "c:\\Users\\Pedro\\Documentos\\pruebatfg\\myenvprueba\\lib\\site-packages\\lightgbm\\engine.py:204: UserWarning: Found `num_iterations` in params. Will use it instead of argument\n",
      "  _log_warning(f\"Found `{alias}` in params. Will use it instead of argument\")\n"
     ]
    },
    {
     "name": "stdout",
     "output_type": "stream",
     "text": [
      "[LightGBM] [Warning] early_stopping_round is set=10, early_stopping_rounds=10 will be ignored. Current value: early_stopping_round=10\n",
      "[LightGBM] [Warning] Found whitespace in feature_names, replace with underlines\n",
      "[LightGBM] [Info] Number of positive: 140097, number of negative: 1259903\n",
      "[LightGBM] [Info] Auto-choosing col-wise multi-threading, the overhead of testing was 0.030301 seconds.\n",
      "You can set `force_col_wise=true` to remove the overhead.\n",
      "[LightGBM] [Info] Total Bins 2305\n",
      "[LightGBM] [Info] Number of data points in the train set: 1400000, number of used features: 11\n",
      "[LightGBM] [Warning] early_stopping_round is set=10, early_stopping_rounds=10 will be ignored. Current value: early_stopping_round=10\n",
      "[LightGBM] [Warning] Found whitespace in feature_names, replace with underlines\n",
      "[LightGBM] [Info] [binary:BoostFromScore]: pavg=0.100069 -> initscore=-2.196455\n",
      "[LightGBM] [Info] Start training from score -2.196455\n",
      "Training until validation scores don't improve for 10 rounds\n",
      "Early stopping, best iteration is:\n",
      "[1546]\ttraining's binary_logloss: 0.280502\tvalid_1's binary_logloss: 0.288145\n"
     ]
    },
    {
     "name": "stderr",
     "output_type": "stream",
     "text": [
      "c:\\Users\\Pedro\\Documentos\\pruebatfg\\myenvprueba\\lib\\site-packages\\lightgbm\\engine.py:204: UserWarning: Found `num_iterations` in params. Will use it instead of argument\n",
      "  _log_warning(f\"Found `{alias}` in params. Will use it instead of argument\")\n"
     ]
    },
    {
     "name": "stdout",
     "output_type": "stream",
     "text": [
      "[LightGBM] [Warning] early_stopping_round is set=10, early_stopping_rounds=10 will be ignored. Current value: early_stopping_round=10\n",
      "[LightGBM] [Warning] Found whitespace in feature_names, replace with underlines\n",
      "[LightGBM] [Info] Number of positive: 140115, number of negative: 1259885\n",
      "[LightGBM] [Info] Auto-choosing col-wise multi-threading, the overhead of testing was 0.028570 seconds.\n",
      "You can set `force_col_wise=true` to remove the overhead.\n",
      "[LightGBM] [Info] Total Bins 2304\n",
      "[LightGBM] [Info] Number of data points in the train set: 1400000, number of used features: 11\n",
      "[LightGBM] [Warning] early_stopping_round is set=10, early_stopping_rounds=10 will be ignored. Current value: early_stopping_round=10\n",
      "[LightGBM] [Warning] Found whitespace in feature_names, replace with underlines\n",
      "[LightGBM] [Info] [binary:BoostFromScore]: pavg=0.100082 -> initscore=-2.196312\n",
      "[LightGBM] [Info] Start training from score -2.196312\n",
      "Training until validation scores don't improve for 10 rounds\n",
      "Early stopping, best iteration is:\n",
      "[723]\ttraining's binary_logloss: 0.309191\tvalid_1's binary_logloss: 0.31292\n"
     ]
    },
    {
     "data": {
      "text/plain": [
       "([0.91495,\n",
       "  0.9122777777777777,\n",
       "  0.9111533333333334,\n",
       "  0.908095,\n",
       "  0.9034833333333333,\n",
       "  0.900395],\n",
       " [0.6266326880740732,\n",
       "  0.5897841254551394,\n",
       "  0.5950115028085902,\n",
       "  0.5705903378676136,\n",
       "  0.5340524729333177,\n",
       "  0.5031788887870942],\n",
       " [0.3852547885796892,\n",
       "  0.29665924276169264,\n",
       "  0.3100538413750259,\n",
       "  0.24437836578648067,\n",
       "  0.1303499023877459,\n",
       "  0.01363283764379673])"
      ]
     },
     "execution_count": 31,
     "metadata": {},
     "output_type": "execute_result"
    }
   ],
   "source": [
    "Fa_list=[100,85,75,60,40,20]\n",
    "plot_score_Fa_depend(Fa_list,0.1,gb_model)"
   ]
  },
  {
   "cell_type": "code",
   "execution_count": 40,
   "metadata": {},
   "outputs": [
    {
     "name": "stderr",
     "output_type": "stream",
     "text": [
      "C:\\Users\\Pedro\\AppData\\Local\\Temp\\ipykernel_8296\\1590880250.py:24: UserWarning: FigureCanvasAgg is non-interactive, and thus cannot be shown\n",
      "  plt.show()\n"
     ]
    }
   ],
   "source": [
    "fa_list=[100,85,75,60,40,20]\n",
    "accuracy_list=[0.91495,\n",
    "  0.9122777777777777,\n",
    "  0.9111533333333334,\n",
    "  0.908095,\n",
    "  0.9034833333333333,\n",
    "  0.900395]\n",
    "auc_list=[0.6266326880740732,\n",
    "  0.5897841254551394,\n",
    "  0.5950115028085902,\n",
    "  0.5705903378676136,\n",
    "  0.5340524729333177,\n",
    "  0.5031788887870942]\n",
    "f1_list=[0.3852547885796892,\n",
    "  0.29665924276169264,\n",
    "  0.3100538413750259,\n",
    "  0.24437836578648067,\n",
    "  0.1303499023877459,\n",
    "  0.01363283764379673]\n",
    "plt.scatter(fa_list,accuracy_list)\n",
    "plt.scatter(fa_list,auc_list)\n",
    "plt.scatter(fa_list,f1_list)\n",
    "plt.legend(['Accuracy','ROC AUC score', 'F1 score'])\n",
    "plt.show()\n"
   ]
  },
  {
   "cell_type": "code",
   "execution_count": 9,
   "metadata": {},
   "outputs": [
    {
     "data": {
      "text/plain": [
       "(0.908095, 0.5705903378676136, 0.24437836578648067)"
      ]
     },
     "execution_count": 9,
     "metadata": {},
     "output_type": "execute_result"
    }
   ],
   "source": [
    "score(df_test_y,pred_test)"
   ]
  },
  {
   "cell_type": "code",
   "execution_count": null,
   "metadata": {},
   "outputs": [],
   "source": [
    "Fa=[100,85,75,60,40,20]\n",
    "accuracy=[0.9045471428571429,0.900395]\n",
    "auc_score=[0.5378830396854314,0.5031788887870942]\n",
    "f1_score0=[0.95,0.95,0.95]\n",
    "f1_score1=[0.24,0.13,0.01 ]\n",
    "\n"
   ]
  },
  {
   "cell_type": "code",
   "execution_count": 53,
   "metadata": {},
   "outputs": [
    {
     "name": "stdout",
     "output_type": "stream",
     "text": [
      "The accuracy on the test set is 0.908095 and the AUC is 0.5705903378676136\n"
     ]
    }
   ],
   "source": [
    "pred_test=model.predict(df_test_x)\n",
    "print(f'The accuracy on the test set is {accuracy_score(df_test_y,pred_test)} and the AUC is {roc_auc_score(df_test_y,pred_test)}')"
   ]
  },
  {
   "cell_type": "code",
   "execution_count": 19,
   "metadata": {},
   "outputs": [
    {
     "name": "stdout",
     "output_type": "stream",
     "text": [
      "0.9001916666666666\n",
      "0.5\n"
     ]
    }
   ],
   "source": [
    "pred_base=np.zeros_like(pred_test)\n",
    "print(accuracy_score(df_test_y,pred_base))\n",
    "print(roc_auc_score(df_test_y,pred_base))"
   ]
  },
  {
   "cell_type": "code",
   "execution_count": null,
   "metadata": {},
   "outputs": [],
   "source": [
    "from sklearn.ensemble import RandomForestClassifier\n",
    "rforestmodel=RandomForestClassifier(n_jobs=-1)\n",
    "rforestmodel.fit(df_train_x,df_train_y)\n",
    "pred_test=rforestmodel.predict(df_test_x)"
   ]
  },
  {
   "cell_type": "code",
   "execution_count": 23,
   "metadata": {},
   "outputs": [
    {
     "name": "stdout",
     "output_type": "stream",
     "text": [
      "0.9002816666666666\n",
      "0.504177515095089\n"
     ]
    }
   ],
   "source": [
    "print(accuracy_score(df_test_y,pred_test))\n",
    "print(roc_auc_score(df_test_y,pred_test))"
   ]
  },
  {
   "cell_type": "code",
   "execution_count": 39,
   "metadata": {},
   "outputs": [
    {
     "name": "stderr",
     "output_type": "stream",
     "text": [
      "C:\\Users\\Pedro\\AppData\\Local\\Temp\\ipykernel_12060\\3059332063.py:3: UserWarning: Dataset has 0 variance; skipping density estimate. Pass `warn_singular=False` to disable this warning.\n",
      "  sns.kdeplot(data[data['activity'] == 0][col], label=\"Pasivas\", fill=True)\n",
      "C:\\Users\\Pedro\\AppData\\Local\\Temp\\ipykernel_12060\\3059332063.py:4: UserWarning: Dataset has 0 variance; skipping density estimate. Pass `warn_singular=False` to disable this warning.\n",
      "  sns.kdeplot(data[data['activity'] == 1][col], label=\"Activas\", fill=True)\n",
      "C:\\Users\\Pedro\\AppData\\Local\\Temp\\ipykernel_12060\\3059332063.py:6: UserWarning: No artists with labels found to put in legend.  Note that artists whose label start with an underscore are ignored when legend() is called with no argument.\n",
      "  plt.legend()\n"
     ]
    }
   ],
   "source": [
    "import seaborn as sns\n",
    "for col in data.columns:\n",
    "    sns.kdeplot(data[data['activity'] == 0][col], label=\"Pasivas\", fill=True)\n",
    "    sns.kdeplot(data[data['activity'] == 1][col], label=\"Activas\", fill=True)\n",
    "    plt.title(col)\n",
    "    plt.legend()\n",
    "    plt.savefig(f\"{col}_distribution.png\")  # Guarda la imagen\n",
    "    plt.close()  # Cierra la figura para liberar memoria"
   ]
  },
  {
   "cell_type": "code",
   "execution_count": 53,
   "metadata": {},
   "outputs": [],
   "source": [
    "import joblib\n",
    "density=0.1\n",
    "fa=100\n",
    "model,features,target,df_test_y,df_test_x=joblib.load(f\"phia{density}/gb-model-{density}-Fa{fa}.pkl\")"
   ]
  },
  {
   "cell_type": "code",
   "execution_count": 54,
   "metadata": {},
   "outputs": [],
   "source": [
    "pred=model.predict(df_test_x)"
   ]
  },
  {
   "cell_type": "code",
   "execution_count": 55,
   "metadata": {},
   "outputs": [
    {
     "data": {
      "text/plain": [
       "0.91495"
      ]
     },
     "execution_count": 55,
     "metadata": {},
     "output_type": "execute_result"
    }
   ],
   "source": [
    "accuracy_score(df_test_y,pred)"
   ]
  },
  {
   "cell_type": "code",
   "execution_count": 56,
   "metadata": {},
   "outputs": [
    {
     "data": {
      "text/plain": [
       "0.6266326880740732"
      ]
     },
     "execution_count": 56,
     "metadata": {},
     "output_type": "execute_result"
    }
   ],
   "source": [
    "roc_auc_score(df_test_y,pred)"
   ]
  }
 ],
 "metadata": {
  "kernelspec": {
   "display_name": "Python 3",
   "language": "python",
   "name": "python3"
  },
  "language_info": {
   "codemirror_mode": {
    "name": "ipython",
    "version": 3
   },
   "file_extension": ".py",
   "mimetype": "text/x-python",
   "name": "python",
   "nbconvert_exporter": "python",
   "pygments_lexer": "ipython3",
   "version": "3.10.5"
  }
 },
 "nbformat": 4,
 "nbformat_minor": 2
}
