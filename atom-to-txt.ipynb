{
 "cells": [
  {
   "cell_type": "code",
   "execution_count": 1,
   "metadata": {},
   "outputs": [],
   "source": [
    "import pandas as pd\n",
    "import numpy as np"
   ]
  },
  {
   "cell_type": "code",
   "execution_count": null,
   "metadata": {},
   "outputs": [],
   "source": [
    "input_file = \"traj_phia0.1-T05-Fa100-tau1.atom\"\n",
    "output_file = \"traj_phia0.1-T05-Fa100-tau1.txt\"\n",
    "\n",
    "num_rows = 202809  # Total number of rows\n",
    "rows_per_image = 1000    \n",
    "num_images = num_rows // (rows_per_image+9)\n",
    "\n",
    "for i in range(num_images):\n",
    "    if i==0:\n",
    "        df=pd.read_csv(input_file,delimiter=' ',skiprows=i*(rows_per_image+9), nrows=rows_per_image,header=None)\n",
    "    else:\n",
    "        data=pd.read_csv(input_file,delimiter=' ',skiprows=i*(rows_per_image+9), nrows=rows_per_image,header=None)\n",
    "        df=pd.concat([df,data])\n",
    "\n",
    "df.to_csv(output_file,index=False,sep=' ')"
   ]
  }
 ],
 "metadata": {
  "kernelspec": {
   "display_name": "myenvprueba",
   "language": "python",
   "name": "python3"
  },
  "language_info": {
   "codemirror_mode": {
    "name": "ipython",
    "version": 3
   },
   "file_extension": ".py",
   "mimetype": "text/x-python",
   "name": "python",
   "nbconvert_exporter": "python",
   "pygments_lexer": "ipython3",
   "version": "3.10.5"
  }
 },
 "nbformat": 4,
 "nbformat_minor": 2
}
